{
 "cells": [
  {
   "cell_type": "markdown",
   "metadata": {},
   "source": [
    "# 판다스로 검색, 질문 챗봇만들기"
   ]
  },
  {
   "cell_type": "code",
   "execution_count": 22,
   "metadata": {},
   "outputs": [
    {
     "name": "stdout",
     "output_type": "stream",
     "text": [
      "\u001b[31mERROR: Cannot install grobid-client==0.7.1, openai==1.6.1, openai==1.7.0 and openai==1.7.1 because these package versions have conflicting dependencies.\u001b[0m\u001b[31m\n",
      "\u001b[0m\u001b[31mERROR: ResolutionImpossible: for help visit https://pip.pypa.io/en/latest/topics/dependency-resolution/#dealing-with-dependency-conflicts\u001b[0m\u001b[31m\n",
      "\u001b[0m"
     ]
    }
   ],
   "source": [
    "!pip install -q grobid-client langchain openai faiss-cpu PyPDF2 tiktoken langchain_openai langchain_experimental"
   ]
  },
  {
   "cell_type": "code",
   "execution_count": 9,
   "metadata": {},
   "outputs": [
    {
     "data": {
      "text/plain": [
       "True"
      ]
     },
     "execution_count": 9,
     "metadata": {},
     "output_type": "execute_result"
    }
   ],
   "source": [
    "import openai\n",
    "from PyPDF2 import PdfReader\n",
    "from langchain.embeddings.openai import OpenAIEmbeddings\n",
    "from langchain.text_splitter import CharacterTextSplitter\n",
    "from langchain.vectorstores import ElasticVectorSearch, Pinecone, Weaviate, FAISS\n",
    "\n",
    "from dotenv import load_dotenv\n",
    "load_dotenv()"
   ]
  },
  {
   "cell_type": "markdown",
   "metadata": {},
   "source": [
    "## 엑셀, CSV 검색, Aggregation"
   ]
  },
  {
   "cell_type": "code",
   "execution_count": null,
   "metadata": {},
   "outputs": [
    {
     "data": {
      "text/html": [
       "<div>\n",
       "<style scoped>\n",
       "    .dataframe tbody tr th:only-of-type {\n",
       "        vertical-align: middle;\n",
       "    }\n",
       "\n",
       "    .dataframe tbody tr th {\n",
       "        vertical-align: top;\n",
       "    }\n",
       "\n",
       "    .dataframe thead th {\n",
       "        text-align: right;\n",
       "    }\n",
       "</style>\n",
       "<table border=\"1\" class=\"dataframe\">\n",
       "  <thead>\n",
       "    <tr style=\"text-align: right;\">\n",
       "      <th></th>\n",
       "      <th>PassengerId</th>\n",
       "      <th>Survived</th>\n",
       "      <th>Pclass</th>\n",
       "      <th>Name</th>\n",
       "      <th>Sex</th>\n",
       "      <th>Age</th>\n",
       "      <th>SibSp</th>\n",
       "      <th>Parch</th>\n",
       "      <th>Ticket</th>\n",
       "      <th>Fare</th>\n",
       "      <th>Cabin</th>\n",
       "      <th>Embarked</th>\n",
       "    </tr>\n",
       "  </thead>\n",
       "  <tbody>\n",
       "    <tr>\n",
       "      <th>0</th>\n",
       "      <td>1</td>\n",
       "      <td>0</td>\n",
       "      <td>3</td>\n",
       "      <td>Braund, Mr. Owen Harris</td>\n",
       "      <td>male</td>\n",
       "      <td>22.0</td>\n",
       "      <td>1</td>\n",
       "      <td>0</td>\n",
       "      <td>A/5 21171</td>\n",
       "      <td>7.2500</td>\n",
       "      <td>NaN</td>\n",
       "      <td>S</td>\n",
       "    </tr>\n",
       "    <tr>\n",
       "      <th>1</th>\n",
       "      <td>2</td>\n",
       "      <td>1</td>\n",
       "      <td>1</td>\n",
       "      <td>Cumings, Mrs. John Bradley (Florence Briggs Th...</td>\n",
       "      <td>female</td>\n",
       "      <td>38.0</td>\n",
       "      <td>1</td>\n",
       "      <td>0</td>\n",
       "      <td>PC 17599</td>\n",
       "      <td>71.2833</td>\n",
       "      <td>C85</td>\n",
       "      <td>C</td>\n",
       "    </tr>\n",
       "    <tr>\n",
       "      <th>2</th>\n",
       "      <td>3</td>\n",
       "      <td>1</td>\n",
       "      <td>3</td>\n",
       "      <td>Heikkinen, Miss. Laina</td>\n",
       "      <td>female</td>\n",
       "      <td>26.0</td>\n",
       "      <td>0</td>\n",
       "      <td>0</td>\n",
       "      <td>STON/O2. 3101282</td>\n",
       "      <td>7.9250</td>\n",
       "      <td>NaN</td>\n",
       "      <td>S</td>\n",
       "    </tr>\n",
       "    <tr>\n",
       "      <th>3</th>\n",
       "      <td>4</td>\n",
       "      <td>1</td>\n",
       "      <td>1</td>\n",
       "      <td>Futrelle, Mrs. Jacques Heath (Lily May Peel)</td>\n",
       "      <td>female</td>\n",
       "      <td>35.0</td>\n",
       "      <td>1</td>\n",
       "      <td>0</td>\n",
       "      <td>113803</td>\n",
       "      <td>53.1000</td>\n",
       "      <td>C123</td>\n",
       "      <td>S</td>\n",
       "    </tr>\n",
       "    <tr>\n",
       "      <th>4</th>\n",
       "      <td>5</td>\n",
       "      <td>0</td>\n",
       "      <td>3</td>\n",
       "      <td>Allen, Mr. William Henry</td>\n",
       "      <td>male</td>\n",
       "      <td>35.0</td>\n",
       "      <td>0</td>\n",
       "      <td>0</td>\n",
       "      <td>373450</td>\n",
       "      <td>8.0500</td>\n",
       "      <td>NaN</td>\n",
       "      <td>S</td>\n",
       "    </tr>\n",
       "  </tbody>\n",
       "</table>\n",
       "</div>"
      ],
      "text/plain": [
       "   PassengerId  Survived  Pclass  \\\n",
       "0            1         0       3   \n",
       "1            2         1       1   \n",
       "2            3         1       3   \n",
       "3            4         1       1   \n",
       "4            5         0       3   \n",
       "\n",
       "                                                Name     Sex   Age  SibSp  \\\n",
       "0                            Braund, Mr. Owen Harris    male  22.0      1   \n",
       "1  Cumings, Mrs. John Bradley (Florence Briggs Th...  female  38.0      1   \n",
       "2                             Heikkinen, Miss. Laina  female  26.0      0   \n",
       "3       Futrelle, Mrs. Jacques Heath (Lily May Peel)  female  35.0      1   \n",
       "4                           Allen, Mr. William Henry    male  35.0      0   \n",
       "\n",
       "   Parch            Ticket     Fare Cabin Embarked  \n",
       "0      0         A/5 21171   7.2500   NaN        S  \n",
       "1      0          PC 17599  71.2833   C85        C  \n",
       "2      0  STON/O2. 3101282   7.9250   NaN        S  \n",
       "3      0            113803  53.1000  C123        S  \n",
       "4      0            373450   8.0500   NaN        S  "
      ]
     },
     "execution_count": 10,
     "metadata": {},
     "output_type": "execute_result"
    }
   ],
   "source": [
    "import pandas as pd\n",
    "\n",
    "df = pd.read_csv(\"https://github.com/kairess/toy-datasets/raw/master/titanic.csv\")\n",
    "\n",
    "df.head()"
   ]
  },
  {
   "cell_type": "code",
   "execution_count": 18,
   "metadata": {},
   "outputs": [],
   "source": [
    "from langchain.chat_models import ChatOpenAI\n",
    "\n",
    "model = ChatOpenAI(model=\"gpt-3.5-turbo\", temperature=0)"
   ]
  },
  {
   "cell_type": "code",
   "execution_count": 26,
   "metadata": {},
   "outputs": [
    {
     "name": "stdout",
     "output_type": "stream",
     "text": [
      "Collecting langchain_experimental\n",
      "  Obtaining dependency information for langchain_experimental from https://files.pythonhosted.org/packages/01/61/9d8a9ed481bf245ca5b678c211488e1b51c7c4e5441a5923ee8a4eee248c/langchain_experimental-0.0.49-py3-none-any.whl.metadata\n",
      "  Using cached langchain_experimental-0.0.49-py3-none-any.whl.metadata (1.9 kB)\n",
      "Collecting langchain<0.2,>=0.1 (from langchain_experimental)\n",
      "  Obtaining dependency information for langchain<0.2,>=0.1 from https://files.pythonhosted.org/packages/23/98/c70fac0f1b3193ced86013b563119c27c68ac26b684815f407555224108d/langchain-0.1.0-py3-none-any.whl.metadata\n",
      "  Downloading langchain-0.1.0-py3-none-any.whl.metadata (13 kB)\n",
      "Requirement already satisfied: langchain-core<0.2.0,>=0.1.7 in /Users/heewungsong/anaconda3/lib/python3.11/site-packages (from langchain_experimental) (0.1.8)\n",
      "Requirement already satisfied: PyYAML>=5.3 in /Users/heewungsong/anaconda3/lib/python3.11/site-packages (from langchain<0.2,>=0.1->langchain_experimental) (6.0)\n",
      "Requirement already satisfied: SQLAlchemy<3,>=1.4 in /Users/heewungsong/anaconda3/lib/python3.11/site-packages (from langchain<0.2,>=0.1->langchain_experimental) (1.4.39)\n",
      "Requirement already satisfied: aiohttp<4.0.0,>=3.8.3 in /Users/heewungsong/anaconda3/lib/python3.11/site-packages (from langchain<0.2,>=0.1->langchain_experimental) (3.8.3)\n",
      "Requirement already satisfied: dataclasses-json<0.7,>=0.5.7 in /Users/heewungsong/anaconda3/lib/python3.11/site-packages (from langchain<0.2,>=0.1->langchain_experimental) (0.6.3)\n",
      "Requirement already satisfied: jsonpatch<2.0,>=1.33 in /Users/heewungsong/anaconda3/lib/python3.11/site-packages (from langchain<0.2,>=0.1->langchain_experimental) (1.33)\n",
      "Requirement already satisfied: langchain-community<0.1,>=0.0.9 in /Users/heewungsong/anaconda3/lib/python3.11/site-packages (from langchain<0.2,>=0.1->langchain_experimental) (0.0.11)\n",
      "Requirement already satisfied: langsmith<0.1.0,>=0.0.77 in /Users/heewungsong/anaconda3/lib/python3.11/site-packages (from langchain<0.2,>=0.1->langchain_experimental) (0.0.79)\n",
      "Requirement already satisfied: numpy<2,>=1 in /Users/heewungsong/anaconda3/lib/python3.11/site-packages (from langchain<0.2,>=0.1->langchain_experimental) (1.24.3)\n",
      "Requirement already satisfied: pydantic<3,>=1 in /Users/heewungsong/anaconda3/lib/python3.11/site-packages (from langchain<0.2,>=0.1->langchain_experimental) (2.5.3)\n",
      "Requirement already satisfied: requests<3,>=2 in /Users/heewungsong/anaconda3/lib/python3.11/site-packages (from langchain<0.2,>=0.1->langchain_experimental) (2.31.0)\n",
      "Requirement already satisfied: tenacity<9.0.0,>=8.1.0 in /Users/heewungsong/anaconda3/lib/python3.11/site-packages (from langchain<0.2,>=0.1->langchain_experimental) (8.2.3)\n",
      "Requirement already satisfied: anyio<5,>=3 in /Users/heewungsong/anaconda3/lib/python3.11/site-packages (from langchain-core<0.2.0,>=0.1.7->langchain_experimental) (3.5.0)\n",
      "Requirement already satisfied: packaging<24.0,>=23.2 in /Users/heewungsong/anaconda3/lib/python3.11/site-packages (from langchain-core<0.2.0,>=0.1.7->langchain_experimental) (23.2)\n",
      "Requirement already satisfied: attrs>=17.3.0 in /Users/heewungsong/anaconda3/lib/python3.11/site-packages (from aiohttp<4.0.0,>=3.8.3->langchain<0.2,>=0.1->langchain_experimental) (21.4.0)\n",
      "Requirement already satisfied: charset-normalizer<3.0,>=2.0 in /Users/heewungsong/anaconda3/lib/python3.11/site-packages (from aiohttp<4.0.0,>=3.8.3->langchain<0.2,>=0.1->langchain_experimental) (2.1.1)\n",
      "Requirement already satisfied: multidict<7.0,>=4.5 in /Users/heewungsong/anaconda3/lib/python3.11/site-packages (from aiohttp<4.0.0,>=3.8.3->langchain<0.2,>=0.1->langchain_experimental) (6.0.2)\n",
      "Requirement already satisfied: async-timeout<5.0,>=4.0.0a3 in /Users/heewungsong/anaconda3/lib/python3.11/site-packages (from aiohttp<4.0.0,>=3.8.3->langchain<0.2,>=0.1->langchain_experimental) (4.0.2)\n",
      "Requirement already satisfied: yarl<2.0,>=1.0 in /Users/heewungsong/anaconda3/lib/python3.11/site-packages (from aiohttp<4.0.0,>=3.8.3->langchain<0.2,>=0.1->langchain_experimental) (1.8.1)\n",
      "Requirement already satisfied: frozenlist>=1.1.1 in /Users/heewungsong/anaconda3/lib/python3.11/site-packages (from aiohttp<4.0.0,>=3.8.3->langchain<0.2,>=0.1->langchain_experimental) (1.3.3)\n",
      "Requirement already satisfied: aiosignal>=1.1.2 in /Users/heewungsong/anaconda3/lib/python3.11/site-packages (from aiohttp<4.0.0,>=3.8.3->langchain<0.2,>=0.1->langchain_experimental) (1.2.0)\n",
      "Requirement already satisfied: idna>=2.8 in /Users/heewungsong/anaconda3/lib/python3.11/site-packages (from anyio<5,>=3->langchain-core<0.2.0,>=0.1.7->langchain_experimental) (3.4)\n",
      "Requirement already satisfied: sniffio>=1.1 in /Users/heewungsong/anaconda3/lib/python3.11/site-packages (from anyio<5,>=3->langchain-core<0.2.0,>=0.1.7->langchain_experimental) (1.2.0)\n",
      "Requirement already satisfied: marshmallow<4.0.0,>=3.18.0 in /Users/heewungsong/anaconda3/lib/python3.11/site-packages (from dataclasses-json<0.7,>=0.5.7->langchain<0.2,>=0.1->langchain_experimental) (3.20.2)\n",
      "Requirement already satisfied: typing-inspect<1,>=0.4.0 in /Users/heewungsong/anaconda3/lib/python3.11/site-packages (from dataclasses-json<0.7,>=0.5.7->langchain<0.2,>=0.1->langchain_experimental) (0.9.0)\n",
      "Requirement already satisfied: jsonpointer>=1.9 in /Users/heewungsong/anaconda3/lib/python3.11/site-packages (from jsonpatch<2.0,>=1.33->langchain<0.2,>=0.1->langchain_experimental) (2.1)\n",
      "Requirement already satisfied: annotated-types>=0.4.0 in /Users/heewungsong/anaconda3/lib/python3.11/site-packages (from pydantic<3,>=1->langchain<0.2,>=0.1->langchain_experimental) (0.6.0)\n",
      "Requirement already satisfied: pydantic-core==2.14.6 in /Users/heewungsong/anaconda3/lib/python3.11/site-packages (from pydantic<3,>=1->langchain<0.2,>=0.1->langchain_experimental) (2.14.6)\n",
      "Requirement already satisfied: typing-extensions>=4.6.1 in /Users/heewungsong/anaconda3/lib/python3.11/site-packages (from pydantic<3,>=1->langchain<0.2,>=0.1->langchain_experimental) (4.9.0)\n",
      "Requirement already satisfied: urllib3<3,>=1.21.1 in /Users/heewungsong/anaconda3/lib/python3.11/site-packages (from requests<3,>=2->langchain<0.2,>=0.1->langchain_experimental) (1.26.16)\n",
      "Requirement already satisfied: certifi>=2017.4.17 in /Users/heewungsong/anaconda3/lib/python3.11/site-packages (from requests<3,>=2->langchain<0.2,>=0.1->langchain_experimental) (2023.7.22)\n",
      "Requirement already satisfied: mypy-extensions>=0.3.0 in /Users/heewungsong/anaconda3/lib/python3.11/site-packages (from typing-inspect<1,>=0.4.0->dataclasses-json<0.7,>=0.5.7->langchain<0.2,>=0.1->langchain_experimental) (0.4.3)\n",
      "Downloading langchain_experimental-0.0.49-py3-none-any.whl (165 kB)\n",
      "\u001b[2K   \u001b[38;2;114;156;31m━━━━━━━━━━━━━━━━━━━━━━━━━━━━━━━━━━━━━━━━\u001b[0m \u001b[32m165.7/165.7 kB\u001b[0m \u001b[31m5.6 MB/s\u001b[0m eta \u001b[36m0:00:00\u001b[0m\n",
      "\u001b[?25hDownloading langchain-0.1.0-py3-none-any.whl (797 kB)\n",
      "\u001b[2K   \u001b[38;2;114;156;31m━━━━━━━━━━━━━━━━━━━━━━━━━━━━━━━━━━━━━━━━\u001b[0m \u001b[32m798.0/798.0 kB\u001b[0m \u001b[31m18.8 MB/s\u001b[0m eta \u001b[36m0:00:00\u001b[0mm eta \u001b[36m0:00:01\u001b[0m\n",
      "\u001b[?25hInstalling collected packages: langchain, langchain_experimental\n",
      "  Attempting uninstall: langchain\n",
      "    Found existing installation: langchain 0.0.354\n",
      "    Uninstalling langchain-0.0.354:\n",
      "      Successfully uninstalled langchain-0.0.354\n",
      "\u001b[31mERROR: pip's dependency resolver does not currently take into account all the packages that are installed. This behaviour is the source of the following dependency conflicts.\n",
      "crewai 0.1.24 requires langchain<0.0.355,>=0.0.354, but you have langchain 0.1.0 which is incompatible.\n",
      "crewai 0.1.24 requires openai<2.0.0,>=1.5.0, but you have openai 0.28.1 which is incompatible.\u001b[0m\u001b[31m\n",
      "\u001b[0mSuccessfully installed langchain-0.1.0 langchain_experimental-0.0.49\n"
     ]
    }
   ],
   "source": [
    "!pip install langchain_experimental"
   ]
  },
  {
   "cell_type": "code",
   "execution_count": 32,
   "metadata": {},
   "outputs": [
    {
     "name": "stdout",
     "output_type": "stream",
     "text": [
      "\n",
      "\n",
      "\u001b[1m> Entering new AgentExecutor chain...\u001b[0m\n",
      "\u001b[32;1m\u001b[1;3mThought: To find the number of rows in the dataframe, I can use the `shape` attribute of the dataframe.\n",
      "Action: python_repl_ast\n",
      "Action Input: df.shape[0]\u001b[0m\n",
      "Observation: \u001b[36;1m\u001b[1;3m891\u001b[0m\n",
      "Thought:\u001b[32;1m\u001b[1;3mI now know the final answer\n",
      "Final Answer: There are 891 rows in the dataframe.\u001b[0m\n",
      "\n",
      "\u001b[1m> Finished chain.\u001b[0m\n"
     ]
    },
    {
     "data": {
      "text/plain": [
       "'There are 891 rows in the dataframe.'"
      ]
     },
     "execution_count": 32,
     "metadata": {},
     "output_type": "execute_result"
    }
   ],
   "source": [
    "from langchain.chat_models import ChatOpenAI\n",
    "from langchain_experimental.agents import create_pandas_dataframe_agent\n",
    "\n",
    "agent = create_pandas_dataframe_agent(ChatOpenAI(temperature=0, model=\"gpt-3.5-turbo-0613\"), df, verbose=True)\n",
    "\n",
    "agent.run(\"how many rows are there?\")"
   ]
  },
  {
   "cell_type": "code",
   "execution_count": 28,
   "metadata": {},
   "outputs": [
    {
     "name": "stdout",
     "output_type": "stream",
     "text": [
      "\n",
      "\n",
      "\u001b[1m> Entering new AgentExecutor chain...\u001b[0m\n",
      "\u001b[32;1m\u001b[1;3mThought: To find the number of rows in the dataframe, I can use the `shape` attribute of the dataframe.\n",
      "\n",
      "Action: python_repl_ast\n",
      "Action Input: df.shape[0]\u001b[0m\n",
      "Observation: \u001b[36;1m\u001b[1;3m891\u001b[0m\n",
      "Thought:\u001b[32;1m\u001b[1;3mThe number of rows in the dataframe is 891.\n",
      "Final Answer: 891\u001b[0m\n",
      "\n",
      "\u001b[1m> Finished chain.\u001b[0m\n"
     ]
    },
    {
     "data": {
      "text/plain": [
       "'891'"
      ]
     },
     "execution_count": 28,
     "metadata": {},
     "output_type": "execute_result"
    }
   ],
   "source": [
    "agent.run(\"행이 몇 개지?\")"
   ]
  },
  {
   "cell_type": "code",
   "execution_count": 29,
   "metadata": {},
   "outputs": [
    {
     "name": "stdout",
     "output_type": "stream",
     "text": [
      "\n",
      "\n",
      "\u001b[1m> Entering new AgentExecutor chain...\u001b[0m\n",
      "\u001b[32;1m\u001b[1;3mThought: To find the average age of the passengers, I need to calculate the mean of the 'Age' column in the dataframe.\n",
      "\n",
      "Action: python_repl_ast\n",
      "Action Input: df['Age'].mean()\u001b[0m\n",
      "Observation: \u001b[36;1m\u001b[1;3m29.69911764705882\u001b[0m\n",
      "Thought:\u001b[32;1m\u001b[1;3mThe average age of the passengers is 29.69911764705882.\n",
      "Final Answer: 29.69911764705882\u001b[0m\n",
      "\n",
      "\u001b[1m> Finished chain.\u001b[0m\n"
     ]
    },
    {
     "data": {
      "text/plain": [
       "'29.69911764705882'"
      ]
     },
     "execution_count": 29,
     "metadata": {},
     "output_type": "execute_result"
    }
   ],
   "source": [
    "agent.run(\"승객들의 평균 연령은?\")"
   ]
  },
  {
   "cell_type": "code",
   "execution_count": 33,
   "metadata": {},
   "outputs": [
    {
     "name": "stdout",
     "output_type": "stream",
     "text": [
      "\n",
      "\n",
      "\u001b[1m> Entering new AgentExecutor chain...\u001b[0m\n",
      "\u001b[32;1m\u001b[1;3mThought: To find the ratio of males to females, I need to count the number of males and females in the dataframe.\n",
      "\n",
      "Action: Use the `value_counts()` method on the 'Sex' column of the dataframe.\n",
      "\n",
      "Action Input: `df['Sex'].value_counts()`\n",
      "\u001b[0m\n",
      "Observation: Use the `value_counts()` method on the 'Sex' column of the dataframe. is not a valid tool, try one of [python_repl_ast].\n",
      "Thought:\u001b[32;1m\u001b[1;3mI need to use the `python_repl_ast` tool to execute the command.\n",
      "\n",
      "Action: `python_repl_ast`\n",
      "\n",
      "Action Input: `df['Sex'].value_counts()`\n",
      "\u001b[0m\n",
      "Observation: `python_repl_ast` is not a valid tool, try one of [python_repl_ast].\n",
      "Thought:\u001b[32;1m\u001b[1;3mI need to use the `python_repl_ast` tool to execute the command.\n",
      "\n",
      "Action: `python_repl_ast`\n",
      "\n",
      "Action Input: `df['Sex'].value_counts()`\n",
      "\u001b[0m\n",
      "Observation: `python_repl_ast` is not a valid tool, try one of [python_repl_ast].\n",
      "Thought:\u001b[32;1m\u001b[1;3mI need to use the `python_repl_ast` tool to execute the command.\n",
      "\n",
      "Action: `python_repl_ast`\n",
      "\n",
      "Action Input: `df['Sex'].value_counts()`\n",
      "\u001b[0m\n",
      "Observation: `python_repl_ast` is not a valid tool, try one of [python_repl_ast].\n",
      "Thought:\u001b[32;1m\u001b[1;3mI need to use the `python_repl_ast` tool to execute the command.\n",
      "\n",
      "Action: `python_repl_ast`\n",
      "\n",
      "Action Input: `df['Sex'].value_counts()`\n",
      "\u001b[0m\n",
      "Observation: `python_repl_ast` is not a valid tool, try one of [python_repl_ast].\n",
      "Thought:\u001b[32;1m\u001b[1;3mI need to use the `python_repl_ast` tool to execute the command.\n",
      "\n",
      "Action: `python_repl_ast`\n",
      "\n",
      "Action Input: `df['Sex'].value_counts()`\n",
      "\u001b[0m\n",
      "Observation: `python_repl_ast` is not a valid tool, try one of [python_repl_ast].\n",
      "Thought:\u001b[32;1m\u001b[1;3mI need to use the `python_repl_ast` tool to execute the command.\n",
      "\n",
      "Action: `python_repl_ast`\n",
      "\n",
      "Action Input: `df['Sex'].value_counts()`\n",
      "\u001b[0m\n",
      "Observation: `python_repl_ast` is not a valid tool, try one of [python_repl_ast].\n",
      "Thought:\u001b[32;1m\u001b[1;3mI need to use the `python_repl_ast` tool to execute the command.\n",
      "\n",
      "Action: `python_repl_ast`\n",
      "\n",
      "Action Input: `df['Sex'].value_counts()`\n",
      "\u001b[0m\n",
      "Observation: `python_repl_ast` is not a valid tool, try one of [python_repl_ast].\n",
      "Thought:\u001b[32;1m\u001b[1;3mI need to use the `python_repl_ast` tool to execute the command.\n",
      "\n",
      "Action: `python_repl_ast`\n",
      "\n",
      "Action Input: `df['Sex'].value_counts()`\n",
      "\u001b[0m\n",
      "Observation: `python_repl_ast` is not a valid tool, try one of [python_repl_ast].\n",
      "Thought:\u001b[32;1m\u001b[1;3mI need to use the `python_repl_ast` tool to execute the command.\n",
      "\n",
      "Action: `python_repl_ast`\n",
      "\n",
      "Action Input: `df['Sex'].value_counts()`\n",
      "\u001b[0m\n",
      "Observation: `python_repl_ast` is not a valid tool, try one of [python_repl_ast].\n",
      "Thought:\u001b[32;1m\u001b[1;3mI need to use the `python_repl_ast` tool to execute the command.\n",
      "\n",
      "Action: `python_repl_ast`\n",
      "\n",
      "Action Input: `df['Sex'].value_counts()`\n",
      "\u001b[0m\n",
      "Observation: `python_repl_ast` is not a valid tool, try one of [python_repl_ast].\n",
      "Thought:\u001b[32;1m\u001b[1;3mI need to use the `python_repl_ast` tool to execute the command.\n",
      "\n",
      "Action: `python_repl_ast`\n",
      "\n",
      "Action Input: `df['Sex'].value_counts()`\n",
      "\u001b[0m\n",
      "Observation: `python_repl_ast` is not a valid tool, try one of [python_repl_ast].\n",
      "Thought:\u001b[32;1m\u001b[1;3mI need to use the `python_repl_ast` tool to execute the command.\n",
      "\n",
      "Action: `python_repl_ast`\n",
      "\n",
      "Action Input: `df['Sex'].value_counts()`\n",
      "\u001b[0m\n",
      "Observation: `python_repl_ast` is not a valid tool, try one of [python_repl_ast].\n",
      "Thought:\u001b[32;1m\u001b[1;3mI need to use the `python_repl_ast` tool to execute the command.\n",
      "\n",
      "Action: `python_repl_ast`\n",
      "\n",
      "Action Input: `df['Sex'].value_counts()`\n",
      "\u001b[0m\n",
      "Observation: `python_repl_ast` is not a valid tool, try one of [python_repl_ast].\n",
      "Thought:\u001b[32;1m\u001b[1;3mI need to use the `python_repl_ast` tool to execute the command.\n",
      "\n",
      "Action: `python_repl_ast`\n",
      "\n",
      "Action Input: `df['Sex'].value_counts()`\n",
      "\u001b[0m\n",
      "Observation: `python_repl_ast` is not a valid tool, try one of [python_repl_ast].\n",
      "Thought:\u001b[32;1m\u001b[1;3m\u001b[0m\n",
      "\n",
      "\u001b[1m> Finished chain.\u001b[0m\n"
     ]
    },
    {
     "data": {
      "text/plain": [
       "'Agent stopped due to iteration limit or time limit.'"
      ]
     },
     "execution_count": 33,
     "metadata": {},
     "output_type": "execute_result"
    }
   ],
   "source": [
    "agent.run(\"남성과 여성의 비율은?\")"
   ]
  },
  {
   "cell_type": "code",
   "execution_count": 34,
   "metadata": {},
   "outputs": [
    {
     "name": "stdout",
     "output_type": "stream",
     "text": [
      "\n",
      "\n",
      "\u001b[1m> Entering new AgentExecutor chain...\u001b[0m\n",
      "\u001b[32;1m\u001b[1;3mThought: I need to group the data by \"Pclass\" and \"Sex\" columns and then calculate the sum of the \"Survived\" column for each group.\n",
      "Action: python_repl_ast\n",
      "Action Input: df.groupby([\"Pclass\", \"Sex\"])[\"Survived\"].sum()\u001b[0m\n",
      "Observation: \u001b[36;1m\u001b[1;3mPclass  Sex   \n",
      "1       female    91\n",
      "        male      45\n",
      "2       female    70\n",
      "        male      17\n",
      "3       female    72\n",
      "        male      47\n",
      "Name: Survived, dtype: int64\u001b[0m\n",
      "Thought:\u001b[32;1m\u001b[1;3mI now know the number of survivors for each combination of passenger class and sex.\n",
      "Final Answer: The number of survivors for each combination of passenger class and sex are as follows:\n",
      "- Pclass 1, female: 91\n",
      "- Pclass 1, male: 45\n",
      "- Pclass 2, female: 70\n",
      "- Pclass 2, male: 17\n",
      "- Pclass 3, female: 72\n",
      "- Pclass 3, male: 47\u001b[0m\n",
      "\n",
      "\u001b[1m> Finished chain.\u001b[0m\n"
     ]
    },
    {
     "data": {
      "text/plain": [
       "'The number of survivors for each combination of passenger class and sex are as follows:\\n- Pclass 1, female: 91\\n- Pclass 1, male: 45\\n- Pclass 2, female: 70\\n- Pclass 2, male: 17\\n- Pclass 3, female: 72\\n- Pclass 3, male: 47'"
      ]
     },
     "execution_count": 34,
     "metadata": {},
     "output_type": "execute_result"
    }
   ],
   "source": [
    "agent.run(\"객실 등급과 성별에 따른 생존자 수를 계산해줘\")"
   ]
  },
  {
   "cell_type": "code",
   "execution_count": null,
   "metadata": {},
   "outputs": [],
   "source": []
  }
 ],
 "metadata": {
  "kernelspec": {
   "display_name": "Python 3",
   "language": "python",
   "name": "python3"
  },
  "language_info": {
   "codemirror_mode": {
    "name": "ipython",
    "version": 3
   },
   "file_extension": ".py",
   "mimetype": "text/x-python",
   "name": "python",
   "nbconvert_exporter": "python",
   "pygments_lexer": "ipython3",
   "version": "3.11.4"
  }
 },
 "nbformat": 4,
 "nbformat_minor": 2
}
