{
 "cells": [
  {
   "cell_type": "markdown",
   "metadata": {},
   "source": [
    "# Langchain 소개\n",
    "LLM을 원동력으로 하는 애플리케이션을 구축하기 위해서는 당연하게도 단순 언어 모델 개발 이상의 작업이 요구됩니다. \n",
    "- 특히 언어 모델을 활용한 서비스 개발 시 가장 까다로운 부분은 언어 모델과 여러 기능 간의 연결입니다. \n",
    "- 랭체인(LangChain)은 이러한 통합을 간소화하도록 설계된 일종의 SDK(Software Development Kit)이자 다양한 언어 모델을 기반으로 하는 애플리케이션 개발을 위한 프레임워크"
   ]
  },
  {
   "cell_type": "markdown",
   "metadata": {},
   "source": [
    "### Langchain의 목적\n",
    "1. 개발 용이성 증진: Langchain은 복잡한 언어 모델을 쉽게 통합하고 활용할 수 있도록 설계되었습니다. 이를 통해 개발자들은 언어 모델의 기능을 빠르고 효율적으로 탐색하고, 이를 다양한 애플리케이션에 적용할 수 있습니다.\n",
    "\n",
    "2. 응용 프로그램 개발 가속화: Langchain은 다양한 언어 처리 기능을 제공함으로써, 개발자들이 복잡한 언어 기반 애플리케이션을 더 빠르게 구축할 수 있도록 돕습니다.\n",
    "\n",
    "3. 혁신 촉진: 이 프레임워크는 새로운 아이디어와 실험을 쉽게 시도할 수 있는 환경을 제공함으로써, 언어 기술의 혁신적인 사용을 장려합니다.\n",
    "\n",
    "### 중요성\n",
    "1. 접근성 향상: Langchain은 복잡한 기술적 지식이 없는 개발자들도 고급 언어 모델을 활용할 수 있게 함으로써, 인공지능 기술의 접근성을 높입니다.\n",
    "\n",
    "2. 다양한 응용: 이 프레임워크는 챗봇, 자동 번역, 콘텐츠 생성, 데이터 분석 등 다양한 분야에서의 응용을 가능하게 합니다.\n",
    "\n",
    "3. 협업 및 공유 촉진: Langchain을 사용함으로써 개발자들은 자신의 작업을 쉽게 공유하고, 다른 프로젝트와 협업할 수 있습니다.\n",
    "\n",
    "### 핵심 개념\n",
    "1. 모듈화: Langchain은 다양한 언어 처리 기능을 모듈로 제공합니다. 이를 통해 개발자들은 필요한 기능을 선택하고 조합하여 사용할 수 있습니다.\n",
    "\n",
    "2. 확장성: 이 프레임워크는 사용자가 필요에 따라 새로운 기능을 추가하거나 기존 기능을 수정할 수 있도록 설계되었습니다.\n",
    "\n",
    "3. 사용자 친화적 인터페이스: Langchain은 직관적이고 사용하기 쉬운 인터페이스를 제공하여, 비전문가도 쉽게 사용할 수 있습니다.\n",
    "\n",
    "4. 통합 및 호환성: 다양한 언어 모델과 기존 시스템, 데이터 소스와의 통합을 지원합니다.\n",
    "\n",
    "\n",
    "![랭체인](https://miro.medium.com/v2/resize:fit:1400/1*rHnOl_6hxUNoLGyIfBlZgQ.png)"
   ]
  },
  {
   "cell_type": "markdown",
   "metadata": {},
   "source": [
    "<!-- # 랭체인의 핵심 개념\n",
    "1. 상황 인식 응용 프로그램\n",
    "  - 사용자의 현재 상황과 맥락을 이해하고, 이를 바탕으로 보다 관련성 높고 적절한 반응을 제공하는 애플리케이션을 의미\n",
    "  - Langchain을 사용하면, 언어 모델이 사용자의 질문이나 요청, 그리고 주어진 상황의 맥락을 더 잘 파악 \n",
    "  예를 들어, 사용자가 특정 주제에 대해 질문할 때, Langchain은 그 질문의 배경, 사용자의 의도, 그리고 그 순간의 특정 상황을 고려하여 보다 정확하고 유용한 답변을 생성\n",
    "\n",
    "2. 언어 모델을 이용한 추론\n",
    "  - 언어 모델이 데이터를 분석하고, 그 안에서 패턴을 찾아내며, 이를 바탕으로 결론을 도출하거나 예측하는 과정\n",
    "  - Langchain은 이러한 추론 과정을 강화하고 최적화\n",
    "  예를 들어, 어떤 텍스트에서 주요 주제를 파악하거나, 사용자의 질문에 대한 답변을 생성할 때 복잡한 문제 해결, 의사결정 지원, 창의적인 아이디어 생성 등 다양한 분야에서 활용\n",
    "  \n",
    "3. 언어모델 역량 강화를 위한 Langchain의 역할\n",
    "  - Langchain은 언어 모델의 역량을 강화하는 데 중요한 역할을 합니다. \n",
    "  예를 들어, Langchain은 언어 모델이 더 정확하게 정보를 추출하고, 사용자의 요구에 맞춘 맞춤형 답변을 제공하며, 심지어 창의적인 콘텐츠를 생성하는 데 도움 -->"
   ]
  },
  {
   "cell_type": "markdown",
   "metadata": {},
   "source": [
    "# 랭체인 사용하기\n",
    "All about the Langchian\n",
    "- PromptTemplate + LLM\n",
    "- RAG\n",
    "- Multiple chains\n",
    "- Querying a SQL DB\n",
    "- Agents"
   ]
  },
  {
   "cell_type": "markdown",
   "metadata": {},
   "source": [
    "### 1. PromptTemplate + LLM\n",
    "프롬프트와 모델을 결합하여 사용자 입력을 받아 프롬프트에 추가하고 모델에 전달"
   ]
  },
  {
   "cell_type": "code",
   "execution_count": 1,
   "metadata": {},
   "outputs": [],
   "source": [
    "\"\"\"\n",
    "Basic Example\n",
    "\"\"\"\n",
    "\n",
    "from langchain_core.prompts import ChatPromptTemplate\n",
    "from langchain_openai import ChatOpenAI\n",
    "\n",
    "from dotenv import load_dotenv\n",
    "load_dotenv()\n",
    "\n",
    "# prompt = ChatPromptTemplate.from_template(\"{something}에 관련하여 재밌는 농담을 만들워줘!\")\n",
    "prompt = ChatPromptTemplate.from_template(\"Make a funny joke about {something}!\")\n",
    "model = ChatOpenAI()\n",
    "chain = prompt | model"
   ]
  },
  {
   "cell_type": "code",
   "execution_count": 2,
   "metadata": {},
   "outputs": [
    {
     "data": {
      "text/plain": [
       "AIMessage(content='Why did the AI go on a diet?\\n\\nBecause it heard it needed to byte-size its algorithms!')"
      ]
     },
     "execution_count": 2,
     "metadata": {},
     "output_type": "execute_result"
    }
   ],
   "source": [
    "chain.invoke({\"something\": \"AI\"})"
   ]
  },
  {
   "cell_type": "code",
   "execution_count": 9,
   "metadata": {},
   "outputs": [
    {
     "data": {
      "text/plain": [
       "AIMessage(content='당신: \"AI, 심심한데 농담 좀 해줄래?\"')"
      ]
     },
     "execution_count": 9,
     "metadata": {},
     "output_type": "execute_result"
    }
   ],
   "source": [
    "\"\"\"\n",
    "Attaching Stop Sequences\n",
    "\"\"\"\n",
    "\n",
    "chain = prompt | model.bind(stop=[\"\\n\"])\n",
    "chain.invoke({\"something\": \"AI\"})"
   ]
  },
  {
   "cell_type": "code",
   "execution_count": 10,
   "metadata": {},
   "outputs": [],
   "source": [
    "\"\"\"\n",
    "Attaching Function Call information\n",
    "\"\"\"\n",
    "\n",
    "functions = [\n",
    "    {\n",
    "        \"name\": \"joke\",\n",
    "        \"description\": \"A joke\",\n",
    "        \"parameters\": {\n",
    "            \"type\": \"object\",\n",
    "            \"properties\": {\n",
    "                \"setup\": {\"type\": \"string\", \"description\": \"The setup for the joke\"},\n",
    "                \"punchline\": {\n",
    "                    \"type\": \"string\",\n",
    "                    \"description\": \"The punchline for the joke\",\n",
    "                },\n",
    "            },\n",
    "            \"required\": [\"setup\", \"punchline\"],\n",
    "        },\n",
    "    }\n",
    "]\n",
    "chain = prompt | model.bind(function_call={\"name\": \"joke\"}, functions=functions)"
   ]
  },
  {
   "cell_type": "code",
   "execution_count": 11,
   "metadata": {},
   "outputs": [
    {
     "data": {
      "text/plain": [
       "AIMessage(content='', additional_kwargs={'function_call': {'arguments': '{\\n  \"setup\": \"왜 AI는 학교에 가지 않을까요?\",\\n  \"punchline\": \"AI는 학교에 가면 \\'놀랍습니다!\\'라는 말을 듣지 못하기 때문입니다!\"\\n}', 'name': 'joke'}})"
      ]
     },
     "execution_count": 11,
     "metadata": {},
     "output_type": "execute_result"
    }
   ],
   "source": [
    "chain.invoke({\"something\": \"AI\"})"
   ]
  },
  {
   "cell_type": "code",
   "execution_count": 12,
   "metadata": {},
   "outputs": [
    {
     "data": {
      "text/plain": [
       "'당신은 AI를 좋아하는구나! 재밌는 농담을 하나 만들어줄게요:\\n\\n왜 AI가 학교에 가지 않았을까요?\\n- 왜냐하면 그는 이미 모든 것을 알고 있으니까요!'"
      ]
     },
     "execution_count": 12,
     "metadata": {},
     "output_type": "execute_result"
    }
   ],
   "source": [
    "\"\"\"\n",
    "PromptTemplate + LLM + OutputParser\n",
    "\"\"\"\n",
    "\n",
    "from langchain_core.output_parsers import StrOutputParser\n",
    "\n",
    "chain = prompt | model | StrOutputParser()\n",
    "chain.invoke({\"something\": \"AI\"})"
   ]
  },
  {
   "cell_type": "code",
   "execution_count": 13,
   "metadata": {},
   "outputs": [],
   "source": [
    "\"\"\"\n",
    "Functions Output Parser\n",
    "\"\"\"\n",
    "\n",
    "from langchain.output_parsers.openai_functions import JsonOutputFunctionsParser\n",
    "\n",
    "chain = (\n",
    "    prompt\n",
    "    | model.bind(function_call={\"name\": \"joke\"}, functions=functions)\n",
    "    | JsonOutputFunctionsParser()\n",
    ")"
   ]
  },
  {
   "cell_type": "code",
   "execution_count": 14,
   "metadata": {},
   "outputs": [
    {
     "data": {
      "text/plain": [
       "{'setup': '왜 AI는 학교를 가지 않을까요?', 'punchline': '너무 똑똑해서 AI는 이미 모든 것을 알고 있으니까요!'}"
      ]
     },
     "execution_count": 14,
     "metadata": {},
     "output_type": "execute_result"
    }
   ],
   "source": [
    "chain.invoke({\"something\": \"AI\"})"
   ]
  },
  {
   "cell_type": "code",
   "execution_count": 15,
   "metadata": {},
   "outputs": [
    {
     "data": {
      "text/plain": [
       "'왜 AI는 학교에 가지 않을까요?'"
      ]
     },
     "execution_count": 15,
     "metadata": {},
     "output_type": "execute_result"
    }
   ],
   "source": [
    "from langchain.output_parsers.openai_functions import JsonKeyOutputFunctionsParser\n",
    "\n",
    "chain = (\n",
    "    prompt\n",
    "    | model.bind(function_call={\"name\": \"joke\"}, functions=functions)\n",
    "    | JsonKeyOutputFunctionsParser(key_name=\"setup\")\n",
    ")\n",
    "\n",
    "chain.invoke({\"something\": \"AI\"})"
   ]
  },
  {
   "cell_type": "markdown",
   "metadata": {},
   "source": [
    "### 2. RAG(Retrieval-Augmented Generation)\n",
    "대규모 언어 모델의 출력을 최적화하여 응답을 생성하기 전에 학습 데이터 소스 외부의 신뢰할 수 있는 지식 베이스를 참조하도록 하는 프로세스\n",
    "\n",
    "[테크크런치 뉴스기사: 기술, 스타트업등의 전문 뉴스](https://techcrunch.com) 에서 발췌한 내용으로 RAG 테스트"
   ]
  },
  {
   "cell_type": "code",
   "execution_count": 1,
   "metadata": {},
   "outputs": [
    {
     "data": {
      "text/plain": [
       "True"
      ]
     },
     "execution_count": 1,
     "metadata": {},
     "output_type": "execute_result"
    }
   ],
   "source": [
    "from langchain.vectorstores import Chroma\n",
    "from langchain.embeddings import OpenAIEmbeddings\n",
    "from langchain.text_splitter import RecursiveCharacterTextSplitter\n",
    "from langchain.llms import OpenAI\n",
    "from langchain.chains import RetrievalQA\n",
    "from langchain.document_loaders import TextLoader\n",
    "from langchain.document_loaders import DirectoryLoader\n",
    "\n",
    "from dotenv import load_dotenv\n",
    "load_dotenv()"
   ]
  },
  {
   "cell_type": "code",
   "execution_count": 2,
   "metadata": {},
   "outputs": [
    {
     "data": {
      "text/plain": [
       "21"
      ]
     },
     "execution_count": 2,
     "metadata": {},
     "output_type": "execute_result"
    }
   ],
   "source": [
    "\"\"\"\n",
    "뉴스기사가 있는 파일을 로드한다\n",
    "Load a file with a news story\n",
    "\"\"\"\n",
    "\n",
    "loader = DirectoryLoader('./assets/techcrunch-articles', glob=\"*.txt\", loader_cls=TextLoader)\n",
    "documents = loader.load()\n",
    "len(documents)"
   ]
  },
  {
   "cell_type": "code",
   "execution_count": 3,
   "metadata": {},
   "outputs": [
    {
     "data": {
      "text/plain": [
       "[Document(page_content='ChatGPT: Everything you need to know about the AI-powered chatbot\\n\\nChatGPT, OpenAI’s text-generating AI chatbot, has taken the world by storm. It’s able to write essays, code and more given short text prompts, hyper-charging productivity. But it also has a more…nefarious side.\\n\\nIn any case, AI tools are not going away — and indeed has expanded dramatically since its launch just a few months ago. Major brands are experimenting with it, using the AI to generate ad and marketing copy, for example.\\n\\nAnd OpenAI is heavily investing in it. ChatGPT was recently super-charged by GPT-4, the latest language-writing model from OpenAI’s labs. Paying ChatGPT users have access to GPT-4, which can write more naturally and fluently than the model that previously powered ChatGPT. In addition to GPT-4, OpenAI recently connected ChatGPT to the internet with plugins available in alpha to users and developers on the waitlist.\\n\\nHere’s a timeline of ChatGPT product updates and releases, starting with the latest, to be updated regularly. We also answer the most common FAQs (see below).\\n\\nTimeline of the most recent ChatGPT updates\\n\\nMay 3, 2023\\n\\nMeta said in a report on May 3 that malware posing as ChatGPT was on the rise across its platforms.The company said that since March 2023, its security teams have uncovered 10 malware families using ChatGPT (and similar themes) to deliver malicious software to users’ devices.\\n\\n“In one case, we’ve seen threat actors create malicious browser extensions available in official web stores that claim to offer ChatGPT-based tools,” said Meta security engineers Duc H. Nguyen and Ryan Victory in a blog post. “They would then promote these malicious extensions on social media and through sponsored search results to trick people into downloading malware.”\\n\\nApril 28, 2023\\n\\nVC firms including Sequoia Capital, Andreessen Horowitz, Thrive and K2 Global are picking up new shares, according to documents seen by TechCrunch. A source tells us Founders Fund is also investing. Altogether the VCs have put in just over $300 million at a valuation of $27 billion to $29 billion. This is separate to a big investment from Microsoft announced earlier this year, a person familiar with the development told TechCrunch, which closed in January. The size of Microsoft’s investment is believed to be around $10 billion, a figure we confirmed with our source.\\n\\nApril 25, 2023\\n\\nCalled ChatGPT Business, OpenAI describes the forthcoming offering as “for professionals who need more control over their data as well as enterprises seeking to manage their end users.”\\n\\n“ChatGPT Business will follow our API’s data usage policies, which means that end users’ data won’t be used to train our models by default,” OpenAI wrote in a blog post. “We plan to make ChatGPT Business available in the coming months.”\\n\\nApril 24, 2023\\n\\nOpenAI applied for a trademark for “GPT,” which stands for “Generative Pre-trained Transformer,” last December. Last month, the company petitioned the USPTO to speed up the process, citing the “myriad infringements and counterfeit apps” beginning to spring into existence.\\n\\nUnfortunately for OpenAI, its petition was dismissed last week. According to the agency, OpenAI’s attorneys neglected to pay an associated fee as well as provide “appropriate documentary evidence supporting the justification of special action.”\\n\\nThat means a decision could take up to five more months.\\n\\nApril 22, 2023\\n\\nAuto-GPT is an open source app created by game developer Toran Bruce Richards that uses OpenAI’s latest text-generating models, GPT-3.5 and GPT-4, to interact with software and services online, allowing it to “autonomously” perform tasks.\\n\\nDepending on what objective the tool’s provided, Auto-GPT can behave in very… unexpected ways. One Reddit user claims that, given a budget of $100 to spend within a server instance, Auto-GPT made a wiki page on cats, exploited a flaw in the instance to gain admin-level access and took over the Python environment in which it was running — and then “killed” itself.\\n\\nApril 18, 2023\\n\\nFTC chair Lina Khan and fellow commissioners warned House representatives of the potential for modern AI technologies, like ChatGPT, to be used to “turbocharge” fraud in a congressional hearing.\\n\\n“AI presents a whole set of opportunities, but also presents a whole set of risks,” Khan told the House representatives. “And I think we’ve already seen ways in which it could be used to turbocharge fraud and scams. We’ve been putting market participants on notice that instances in which AI tools are effectively being designed to deceive people can place them on the hook for FTC action,” she stated.\\n\\nApril 17, 2023\\n\\nThe company behind the popular iPhone customization app Brass, sticker maker StickerHub and others is out today with a new AI chat app called SuperChat, which allows iOS users to chat with virtual characters powered by OpenAI’s ChatGPT. However, what makes the app different from the default ChatGPT experience or the dozens of generic AI chat apps now available are the characters offered which you can use to engage with SuperChat’s AI features.\\n\\nApril 12, 2023\\n\\nItaly’s data protection watchdog has laid out what OpenAI needs to do for it to lift an order against ChatGPT issued at the end of last month — when it said it suspected the AI chatbot service was in breach of the EU’s GSPR and ordered the U.S.-based company to stop processing locals’ data.\\n\\nThe DPA has given OpenAI a deadline — of April 30 — to get the regulator’s compliance demands done. (The local radio, TV and internet awareness campaign has a slightly more generous timeline of May 15 to be actioned.)\\n\\nApril 12, 2023\\n\\nA study co-authored by scientists at the Allen Institute for AI shows that assigning ChatGPT a “persona” — for example, “a bad person,” “a horrible person” or “a nasty person” — through the ChatGPT API increases its toxicity sixfold. Even more concerning, the co-authors found having ChatGPT pose as certain historical figures, gendered people and members of political parties also increased its toxicity — with journalists, men and Republicans in particular causing the machine learning model to say more offensive things than it normally would.\\n\\nThe research was conducted using the latest version of ChatGPT, but not the model currently in preview based on OpenAI’s GPT-4.\\n\\nApril 4, 2023\\n\\nYC Demo Day’s Winter 2023 batch features no fewer than four startups that claim to be building “ChatGPT for X.” They’re all chasing after a customer service software market that’ll be worth $58.1 billion by 2023, assuming the rather optimistic prediction from Acumen Research comes true.\\n\\nHere are the YC-backed startups that caught our eye:\\n\\nYuma, whose customer demographic is primarily Shopify merchants, provides ChatGPT-like AI systems that integrate with help desk software, suggesting drafts of replies to customer tickets.\\n\\nBaselit, which uses one of OpenAI’s text-understanding models to allow businesses to embed chatbot-style analytics for their customers.\\n\\nLasso customers send descriptions or videos of the processes they’d like to automate and the company combines ChatGPT-like interface with robotic process automation (RPA) and a Chrome extension to build out those automations.\\n\\nBerriAI, whose platform is designed to help developers spin up ChatGPT apps for their organization data through various data connectors.\\n\\nApril 1, 2023\\n\\nOpenAI has started geoblocking access to its generative AI chatbot, ChatGPT, in Italy.\\n\\nItaly’s data protection authority has just put out a timely reminder that some countries do have laws that already apply to cutting edge AI: it has ordered OpenAI to stop processing people’s data locally with immediate effect. The Italian DPA said it’s concerned that the ChatGPT maker is breaching the European Union’s General Data Protection Regulation (GDPR), and is opening an investigation.\\n\\nMarch 29, 2023\\n\\nThe letter’s signatories include Elon Musk, Steve Wozniak and Tristan Harris of the Center for Humane Technology, among others. The letter calls on “all AI labs to immediately pause for at least 6 months the training of AI systems more powerful than GPT-4.”\\n\\nThe letter reads:\\n\\nContemporary AI systems are now becoming human-competitive at general tasks,[3] and we must ask ourselves: Should we let machines flood our information channels with propaganda and untruth? Should we automate away all the jobs, including the fulfilling ones? Should we develop nonhuman minds that might eventually outnumber, outsmart, obsolete and replace us? Should we risk loss of control of our civilization? Such decisions must not be delegated to unelected tech leaders. Powerful AI systems should be developed only once we are confident that their effects will be positive and their risks will be manageable.\\n\\nMarch 23, 2023\\n\\nOpenAI launched plugins for ChatGPT, extending the bots functionality by granting it access to third-party knowledge sources and databases, including the web. Available in alpha to ChatGPT users and developers on the waitlist, OpenAI says that it’ll initially prioritize a small number of developers and subscribers to its premium ChatGPT Plus plan before rolling out larger-scale and API access.\\n\\nMarch 14, 2023\\n\\nGPT-4 is a powerful image- and text-understanding AI model from OpenAI. Released March 14, GPT-4 is available for paying ChatGPT Plus users and through a public API. Developers can sign up on a waitlist to access the API.\\n\\nMarch 9, 2023\\n\\nChatGPT is generally available through the Azure OpenAI Service, Microsoft’s fully managed, corporate-focused offering. Customers, who must already be “Microsoft managed customers and partners,” can apply here for special access.\\n\\nMarch 1, 2023\\n\\nOpenAI makes another move toward monetization by launching a paid API for ChatGPT. Instacart, Snap (Snapchat’s parent company) and Quizlet are among its initial customers.\\n\\nFebruary 7, 2023\\n\\nAt a press event in Redmond, Washington, Microsoft announced its long-rumored integration of OpenAI’s GPT-4 model into Bing, providing a ChatGPT-like experience within the search engine. The announcement spurred a 10x increase in new downloads for Bing globally, indicating a sizable consumer demand for new AI experiences.\\n\\nOther companies beyond Microsoft joined in on the AI craze by implementing ChatGPT, including OkCupid, Kaito, Snapchat and Discord — putting the pressure on Big Tech’s AI initiatives, like Google.\\n\\nFebruary 1, 2023\\n\\nAfter ChatGPT took the internet by storm, OpenAI launched a new pilot subscription plan for ChatGPT called ChatGPT Plus, aiming to monetize the technology starting at $20 per month.\\n\\nDecember 8, 2022\\n\\nA week after ChatGPT was released into the wild, two developers — Steven Tey and Dom Eccleston — made a Chrome extension called ShareGPT to make it easier to capture and share the AI’s answers with the world.\\n\\nNovember 30, 2022\\n\\nGPT-3.5 broke cover with ChatGPT, a fine-tuned version of GPT-3.5 that’s essentially a general-purpose chatbot. ChatGPT can engage with a range of topics, including programming, TV scripts and scientific concepts.\\n\\nWriters everywhere rolled their eyes at the new technology, much like artists did with OpenAI’s DALL-E model, but the latest chat-style iteration seemingly broadened its appeal and audience.\\n\\nFAQs:\\n\\nWhat is ChatGPT? How does it work?\\n\\nChatGPT is a general-purpose chatbot that uses artificial intelligence to generate text after a user enters a prompt, developed by tech startup OpenAI. The chatbot uses GPT-4, a large language model that uses deep learning to produce human-like text.\\n\\nWhen did ChatGPT get released?\\n\\nNovember 30, 2022 is when ChatGPT was released for public use.\\n\\nWhat is the latest version of ChatGPT?\\n\\nBoth the free version of ChatGPT and the paid ChatGPT Plus are regularly updated with new GPT models. The most recent model is GPT-4.\\n\\nIs ChatGPT free?\\n\\nThere is a free version of ChatGPT that only requires a sign-in in addition to the paid version, ChatGPT Plus.\\n\\nWho uses ChatGPT?\\n\\nAnyone can use ChatGPT! More and more tech companies and search engines are utilizing the chatbot to automate text or quickly answer user questions/concerns.\\n\\nWhat is the difference between ChatGPT and a chatbot?\\n\\nA chatbot can be any software/system that holds dialogue with you/a person but doesn’t necessarily have to be AI-powered. For example, there are chatbots that are rules-based in the sense that they’ll give canned responses to questions.\\n\\nChatGPT is AI-powered and utilizes LLM technology to generate text after a prompt.\\n\\nCan ChatGPT write essays?\\n\\nYes.\\n\\nCan ChatGPT commit libel?\\n\\nDue to the nature of how these models work, they don’t know or care whether something is true, only that it looks true. That’s a problem when you’re using it to do your homework, sure, but when it accuses you of a crime you didn’t commit, that may well at this point be libel.\\n\\nWe will see how handling troubling statements produced by ChatGPT will play out over the next few months as tech and legal experts attempt to tackle the fastest moving target in the industry.\\n\\nDoes ChatGPT have an app?\\n\\nThere is not an app available for iPhone or Android, but users have options to enable the chatbot on their mobile devices via their browser or a third-party app that uses ChatGPT’s public API.\\n\\nWhat is the ChatGPT character limit?\\n\\nIt’s not documented anywhere that ChatGPT has a character limit. However, users have noted that there are some character limitations after around 500 words.\\n\\nDoes ChatGPT have an API?\\n\\nYes, it was released March 1, 2023.\\n\\nWhat are some sample everyday uses for ChatGPT?\\n\\nEveryday examples include programing, scripts, email replies, listicles, blog ideas, summarization, etc.\\n\\nWhat are some advanced uses for ChatGPT?\\n\\nAdvanced use examples include debugging code, programming languages, scientific concepts, complex problem solving, etc.\\n\\nHow good is ChatGPT at writing code?\\n\\nIt depends on the nature of the program. While ChatGPT can write workable Python code, it can’t necessarily program an entire app’s worth of code. That’s because ChatGPT lacks context awareness — in other words, the generated code isn’t always appropriate for the specific context in which it’s being used.\\n\\nCan you save a ChatGPT chat?\\n\\nYes. OpenAI allows users to save chats in the ChatGPT interface, stored in the sidebar of the screen. There are no built-in sharing features yet.\\n\\nAre there alternatives to ChatGPT?\\n\\nYes. There are multiple AI-powered chatbot competitors such as Together, Google’s Bard and Anthropic’s Claude, and developers are creating open source alternatives. But the latter are harder — if not impossible — to run today.\\n\\nHow does ChatGPT handle data privacy?\\n\\nOpenAI has said that individuals in “certain jurisdictions” (such as the EU) can object to the processing of their personal information by its AI models by filling out this form. This includes the ability to make requests for deletion of AI-generated references about you. Although OpenAI notes it may not grant every request since it must balance privacy requests against freedom of expression “in accordance with applicable laws”.\\n\\nThe web form for making a deletion of data about you request is entitled “OpenAI Personal Data Removal Request”.\\n\\nIn its privacy policy, the ChatGPT maker makes a passing acknowledgement of the objection requirements attached to relying on “legitimate interest” (LI), pointing users towards more information about requesting an opt out — when it writes: “See here for instructions on how you can opt out of our use of your information to train our models.”\\n\\nWhat controversies have surrounded ChatGPT?\\n\\nRecently, Discord announced that it had integrated OpenAI’s technology into its bot named Clyde where two users tricked Clyde into providing them with instructions for making the illegal drug methamphetamine (meth) and the incendiary mixture napalm.\\n\\nAn Australian mayor has publicly announced he may sue OpenAI for defamation due to ChatGPT’s false claims that he had served time in prison for bribery. This would be the first defamation lawsuit against the text-generating service.\\n\\nCNET found itself in the midst of controversy after Futurism reported the publication was publishing articles under a mysterious byline completely generated by AI. The private equity company that owns CNET, Red Ventures, was accused of using ChatGPT for SEO farming, even if the information was incorrect.\\n\\nSeveral major school systems and colleges, including New York City Public Schools, have banned ChatGPT from their networks and devices. They claim that the AI impedes the learning process by promoting plagiarism and misinformation, a claim that not every educator agrees with.\\n\\nThere have also been cases of ChatGPT accusing individuals of false crimes.\\n\\nWhere can I find examples of ChatGPT prompts?\\n\\nSeveral marketplaces host and provide ChatGPT prompts, either for free or for a nominal fee. One is PromptBase. Another is ChatX. More launch every day.\\n\\nCan ChatGPT be detected?\\n\\nPoorly. Several tools claim to detect ChatGPT-generated text, but in our tests, they’re inconsistent at best.\\n\\nAre ChatGPT chats public?\\n\\nNo. But OpenAI recently disclosed a bug, since fixed, that exposed the titles of some users’ conversations to other people on the service.\\n\\nWho owns the copyright on ChatGPT-created content or media?\\n\\nThe user who requested the input from ChatGPT is the copyright owner.\\n\\nWhat lawsuits are there surrounding ChatGPT?\\n\\nNone specifically targeting ChatGPT. But OpenAI is involved in at least one lawsuit that has implications for AI systems trained on publicly available data, which would touch on ChatGPT.\\n\\nAre there issues regarding plagiarism with ChatGPT?\\n\\nYes. Text-generating AI models like ChatGPT have a tendency to regurgitate content from their training data.', metadata={'source': 'assets/techcrunch-articles/05-03-chatgpt-everything-you-need-to-know-about-the-ai-powered-chatbot.txt'}),\n",
       " Document(page_content='The best way to avoid a down round is to found an AI startup\\n\\nAs we see unicorns slash staff and the prevalence of down rounds spike, it may seem that the startup ecosystem is chock-full of bad news and little else. That’s not precisely the case.\\n\\nWhile AI, and in particular the generative AI subcategory, are as hot as the sun, not all venture attention is going to the handful of names that you already know. Sure, OpenAI is able to land nine and 10-figure rounds from a murderer’s row of tech investors and mega-cap corporations. And rising companies like Hugging Face and Anthropic cannot stay out of the news, proving that smaller AI-focused startups are doing more than well.\\n\\nIn fact, new data from Carta, which provides cap table management and other services, indicates that AI-focused startups are outperforming their larger peer group at both the seed and Series A stage.\\n\\nThe dataset, which notes that AI-centered startups are raising more and at higher valuations than other startups, indicates that perhaps the best way to avoid a down round today is to build in the artificial intelligence space.\\n\\nWhat the data says\\n\\nPer Carta data relating to the first quarter of the year, seed funding to non-AI startups in the U.S. market that use its services dipped from $1.64 billion to $1.08 billion, or a decline of around 34%. That result is directionally aligned with other data that we’ve seen regarding Q1 2023 venture capital totals; the data points down.', metadata={'source': 'assets/techcrunch-articles/05-06-ai-startups-q1-investments.txt'})]"
      ]
     },
     "execution_count": 3,
     "metadata": {},
     "output_type": "execute_result"
    }
   ],
   "source": [
    "documents[:2]"
   ]
  },
  {
   "cell_type": "code",
   "execution_count": 4,
   "metadata": {},
   "outputs": [],
   "source": [
    "text_splitter = RecursiveCharacterTextSplitter(chunk_size=1000, chunk_overlap=200)\n",
    "texts = text_splitter.split_documents(documents)"
   ]
  },
  {
   "cell_type": "code",
   "execution_count": 5,
   "metadata": {},
   "outputs": [
    {
     "name": "stdout",
     "output_type": "stream",
     "text": [
      "233\n",
      "page_content='ChatGPT: Everything you need to know about the AI-powered chatbot\\n\\nChatGPT, OpenAI’s text-generating AI chatbot, has taken the world by storm. It’s able to write essays, code and more given short text prompts, hyper-charging productivity. But it also has a more…nefarious side.\\n\\nIn any case, AI tools are not going away — and indeed has expanded dramatically since its launch just a few months ago. Major brands are experimenting with it, using the AI to generate ad and marketing copy, for example.\\n\\nAnd OpenAI is heavily investing in it. ChatGPT was recently super-charged by GPT-4, the latest language-writing model from OpenAI’s labs. Paying ChatGPT users have access to GPT-4, which can write more naturally and fluently than the model that previously powered ChatGPT. In addition to GPT-4, OpenAI recently connected ChatGPT to the internet with plugins available in alpha to users and developers on the waitlist.' metadata={'source': 'assets/techcrunch-articles/05-03-chatgpt-everything-you-need-to-know-about-the-ai-powered-chatbot.txt'}\n"
     ]
    }
   ],
   "source": [
    "print(len(texts));\n",
    "print(texts[0]);"
   ]
  },
  {
   "cell_type": "markdown",
   "metadata": {},
   "source": [
    "##### Vector Database: Chroma DB\n",
    "\n",
    "1. Text -> Embbedings\n",
    "2. `db` 폴더에 데이터 저장\n",
    "3. DB 초기화\n",
    "4. `db` 폴더로부터 DB 로드"
   ]
  },
  {
   "cell_type": "code",
   "execution_count": 6,
   "metadata": {},
   "outputs": [
    {
     "name": "stderr",
     "output_type": "stream",
     "text": [
      "/Users/heewungsong/anaconda3/lib/python3.11/site-packages/langchain_core/_api/deprecation.py:115: LangChainDeprecationWarning: The class `OpenAIEmbeddings` was deprecated in LangChain 0.1.0 and will be removed in 0.2.0. Use langchain_openai.OpenAIEmbeddings instead.\n",
      "  warn_deprecated(\n"
     ]
    }
   ],
   "source": [
    "\"\"\"\n",
    "1. 위에서 로드한 뉴스기사들을 OpenAIEmbeddings 이용하여 백터화\n",
    "2. db 폴더에 저장\n",
    "\"\"\"\n",
    "\n",
    "persist_directory = 'db'\n",
    "\n",
    "embedding = OpenAIEmbeddings()\n",
    "\n",
    "vectordb = Chroma.from_documents(\n",
    "    documents=texts, \n",
    "    embedding=embedding,\n",
    "    persist_directory=persist_directory)"
   ]
  },
  {
   "cell_type": "code",
   "execution_count": 7,
   "metadata": {},
   "outputs": [],
   "source": [
    "vectordb.persist()\n",
    "vectordb = None"
   ]
  },
  {
   "cell_type": "code",
   "execution_count": 8,
   "metadata": {},
   "outputs": [],
   "source": [
    "\"\"\"\n",
    "백터화 시킨 데이터들을 db폴더에서 로드\n",
    "\"\"\"\n",
    "\n",
    "vectordb = Chroma(\n",
    "    persist_directory=persist_directory, \n",
    "    embedding_function=embedding)"
   ]
  },
  {
   "cell_type": "code",
   "execution_count": 9,
   "metadata": {},
   "outputs": [
    {
     "name": "stdout",
     "output_type": "stream",
     "text": [
      "assets/techcrunch-articles/05-04-slack-updates-aim-to-put-ai-at-the-center-of-the-user-experience.txt\n",
      "assets/techcrunch-articles/05-03-nova-is-building-guardrails-for-generative-ai-content-to-protect-brand-integrity.txt\n",
      "assets/techcrunch-articles/05-04-hugging-face-and-servicenow-release-a-free-code-generating-model.txt\n",
      "assets/techcrunch-articles/05-03-spawning-lays-out-its-plans-for-letting-creators-opt-out-of-generative-ai-training.txt\n"
     ]
    }
   ],
   "source": [
    "retriever = vectordb.as_retriever()\n",
    "\n",
    "docs = retriever.get_relevant_documents(\"What is Generative AI?\")\n",
    "\n",
    "for doc in docs:\n",
    "    print(doc.metadata[\"source\"])"
   ]
  },
  {
   "cell_type": "code",
   "execution_count": 10,
   "metadata": {},
   "outputs": [],
   "source": [
    "\"\"\"\n",
    "관련 문서의 개수를 제한\n",
    "\"\"\"\n",
    "\n",
    "retriever = vectordb.as_retriever(search_kwargs={\"k\": 3})"
   ]
  },
  {
   "cell_type": "code",
   "execution_count": 11,
   "metadata": {},
   "outputs": [
    {
     "name": "stdout",
     "output_type": "stream",
     "text": [
      "assets/techcrunch-articles/05-04-slack-updates-aim-to-put-ai-at-the-center-of-the-user-experience.txt\n",
      "assets/techcrunch-articles/05-03-nova-is-building-guardrails-for-generative-ai-content-to-protect-brand-integrity.txt\n",
      "assets/techcrunch-articles/05-04-hugging-face-and-servicenow-release-a-free-code-generating-model.txt\n"
     ]
    }
   ],
   "source": [
    "docs = retriever.get_relevant_documents(\"What is Generative AI?\")\n",
    "\n",
    "for doc in docs:\n",
    "    print(doc.metadata[\"source\"])"
   ]
  },
  {
   "cell_type": "code",
   "execution_count": 12,
   "metadata": {},
   "outputs": [
    {
     "name": "stderr",
     "output_type": "stream",
     "text": [
      "/Users/heewungsong/anaconda3/lib/python3.11/site-packages/langchain_core/_api/deprecation.py:115: LangChainDeprecationWarning: The class `OpenAI` was deprecated in LangChain 0.1.0 and will be removed in 0.2.0. Use langchain_openai.OpenAI instead.\n",
      "  warn_deprecated(\n"
     ]
    }
   ],
   "source": [
    "qa_chain = RetrievalQA.from_chain_type(\n",
    "    llm=OpenAI(), \n",
    "    chain_type=\"stuff\", \n",
    "    retriever=retriever, \n",
    "    return_source_documents=True)"
   ]
  },
  {
   "cell_type": "code",
   "execution_count": 13,
   "metadata": {},
   "outputs": [],
   "source": [
    "def process_llm_response(llm_response):\n",
    "    print(llm_response['result'])\n",
    "    print('\\n\\nSources:')\n",
    "    for source in llm_response[\"source_documents\"]:\n",
    "        print(source.metadata['source'])"
   ]
  },
  {
   "cell_type": "code",
   "execution_count": 14,
   "metadata": {},
   "outputs": [
    {
     "name": "stderr",
     "output_type": "stream",
     "text": [
      "/Users/heewungsong/anaconda3/lib/python3.11/site-packages/langchain_core/_api/deprecation.py:115: LangChainDeprecationWarning: The function `__call__` was deprecated in LangChain 0.1.0 and will be removed in 0.2.0. Use invoke instead.\n",
      "  warn_deprecated(\n"
     ]
    },
    {
     "name": "stdout",
     "output_type": "stream",
     "text": [
      "\n",
      "Generative AI refers to the use of artificial intelligence (AI) techniques, such as language models, to generate new content or ideas. This can be incorporated into workflows and apps to assist with tasks and produce new content or experiences.\n",
      "\n",
      "\n",
      "Sources:\n",
      "assets/techcrunch-articles/05-04-slack-updates-aim-to-put-ai-at-the-center-of-the-user-experience.txt\n",
      "assets/techcrunch-articles/05-03-nova-is-building-guardrails-for-generative-ai-content-to-protect-brand-integrity.txt\n",
      "assets/techcrunch-articles/05-04-hugging-face-and-servicenow-release-a-free-code-generating-model.txt\n"
     ]
    }
   ],
   "source": [
    "query = \"What is Generative AI?\"\n",
    "llm_response = qa_chain(query)\n",
    "process_llm_response(llm_response)"
   ]
  },
  {
   "cell_type": "code",
   "execution_count": 16,
   "metadata": {},
   "outputs": [
    {
     "name": "stdout",
     "output_type": "stream",
     "text": [
      "\n",
      "\n",
      "Generative AI refers to artificial intelligence algorithms and models that can generate new content or creations, such as images, text, or code. These models are trained on large datasets of existing content and can then use that knowledge to produce new, unique outputs. However, there have been legal disputes over the use of copyrighted material in training these models.\n",
      "\n",
      "\n",
      "Sources:\n",
      "assets/techcrunch-articles/05-04-microsoft-doubles-down-on-ai-with-new-bing-features.txt\n",
      "assets/techcrunch-articles/05-05-google-and-openai-are-walmarts-besieged-by-fruit-stands.txt\n",
      "assets/techcrunch-articles/05-03-spawning-lays-out-its-plans-for-letting-creators-opt-out-of-generative-ai-training.txt\n"
     ]
    }
   ],
   "source": [
    "query = \"생성 AI란 무엇입니까?\"\n",
    "llm_response = qa_chain(query)\n",
    "\n",
    "process_llm_response(llm_response)"
   ]
  },
  {
   "cell_type": "code",
   "execution_count": 17,
   "metadata": {},
   "outputs": [],
   "source": [
    "\"\"\"\n",
    "RetrievalQA Chain\n",
    "\"\"\"\n",
    "\n",
    "qa_chain = RetrievalQA.from_chain_type(\n",
    "    llm=OpenAI(), \n",
    "    chain_type=\"stuff\", \n",
    "    retriever=retriever, \n",
    "    return_source_documents=True)"
   ]
  },
  {
   "cell_type": "code",
   "execution_count": 20,
   "metadata": {},
   "outputs": [
    {
     "name": "stdout",
     "output_type": "stream",
     "text": [
      " Pando raised $30 million in its Series B round, bringing its total raised to $45 million.\n",
      "\n",
      "\n",
      "Sources:\n",
      "assets/techcrunch-articles/05-03-ai-powered-supply-chain-startup-pando-lands-30m-investment.txt\n",
      "assets/techcrunch-articles/05-03-ai-powered-supply-chain-startup-pando-lands-30m-investment.txt\n",
      "assets/techcrunch-articles/05-03-ai-powered-supply-chain-startup-pando-lands-30m-investment.txt\n"
     ]
    }
   ],
   "source": [
    "query = \"How much money did Pando raise?\"\n",
    "llm_response = qa_chain(query)\n",
    "process_llm_response(llm_response)"
   ]
  },
  {
   "cell_type": "code",
   "execution_count": 21,
   "metadata": {},
   "outputs": [
    {
     "name": "stdout",
     "output_type": "stream",
     "text": [
      " Iron Pillar and Uncorrelated Ventures.\n",
      "\n",
      "\n",
      "Sources:\n",
      "assets/techcrunch-articles/05-03-ai-powered-supply-chain-startup-pando-lands-30m-investment.txt\n",
      "assets/techcrunch-articles/05-03-ai-powered-supply-chain-startup-pando-lands-30m-investment.txt\n",
      "assets/techcrunch-articles/05-03-ai-powered-supply-chain-startup-pando-lands-30m-investment.txt\n"
     ]
    }
   ],
   "source": [
    "query = \"Who led the round in Pando?\"\n",
    "llm_response = qa_chain(query)\n",
    "process_llm_response(llm_response)"
   ]
  },
  {
   "cell_type": "code",
   "execution_count": 22,
   "metadata": {},
   "outputs": [
    {
     "name": "stdout",
     "output_type": "stream",
     "text": [
      "\n",
      "Databricks acquired Okera, a data governance platform focused on AI.\n",
      "\n",
      "\n",
      "Sources:\n",
      "assets/techcrunch-articles/05-03-databricks-acquires-ai-centric-data-governance-platform-okera.txt\n",
      "assets/techcrunch-articles/05-03-databricks-acquires-ai-centric-data-governance-platform-okera.txt\n",
      "assets/techcrunch-articles/05-03-databricks-acquires-ai-centric-data-governance-platform-okera.txt\n"
     ]
    }
   ],
   "source": [
    "query = \"What did Databricks acquire?\"\n",
    "llm_response = qa_chain(query)\n",
    "process_llm_response(llm_response)"
   ]
  },
  {
   "cell_type": "markdown",
   "metadata": {},
   "source": [
    "### 3. Multiple chains\n",
    "\n",
    "- Langchain에서는 복잡한 작업을 수행하기 위해 여러 체인을 결합하거나 병렬로 실행할 수 있습니다. \n",
    "- 이를 통해 데이터 검색 및 언어 처리와 같은 다양한 기능을 통합하여 더 정교한 AI 애플리케이션을 만들 수 있습니다."
   ]
  },
  {
   "cell_type": "code",
   "execution_count": 23,
   "metadata": {},
   "outputs": [
    {
     "data": {
      "text/plain": [
       "'바락 오바마, 미국 44대 대통령이 태어난 도시는 하와이의 혼룰루입니다.'"
      ]
     },
     "execution_count": 23,
     "metadata": {},
     "output_type": "execute_result"
    }
   ],
   "source": [
    "from operator import itemgetter\n",
    "\n",
    "from langchain.schema import StrOutputParser\n",
    "from langchain_core.prompts import ChatPromptTemplate\n",
    "from langchain_openai import ChatOpenAI\n",
    "\n",
    "prompt1 = ChatPromptTemplate.from_template(\"what is the city {person} is from?\")\n",
    "prompt2 = ChatPromptTemplate.from_template(\n",
    "    \"what country is the city {city} in? respond in {language}\"\n",
    ")\n",
    "\n",
    "model = ChatOpenAI()\n",
    "\n",
    "chain1 = prompt1 | model | StrOutputParser()\n",
    "\n",
    "chain2 = (\n",
    "    {\"city\": chain1, \"language\": itemgetter(\"language\")}\n",
    "    | prompt2\n",
    "    | model\n",
    "    | StrOutputParser()\n",
    ")\n",
    "\n",
    "chain2.invoke({\"person\": \"obama\", \"language\": \"korean\"})"
   ]
  },
  {
   "cell_type": "markdown",
   "metadata": {},
   "source": []
  },
  {
   "cell_type": "code",
   "execution_count": 35,
   "metadata": {},
   "outputs": [],
   "source": [
    "\"\"\"\n",
    "Branching and Merging\n",
    "\n",
    "\n",
    "- (1) planner: {topic}을 인풋으로 받으면 논쟁거리를 생성합니다. \n",
    "- (2) arguments_for: planner가 생성한 {topic}의 논쟁거리에 대한 찬성 입장을 생성합니다. \n",
    "- (3) agruments_against: planner가 생성한 {topic}의 논쟁거리에 대한 반대 입장을 생성합니다.\n",
    "- (4) final_responder: (1) 최초 논쟁거리, (2) 찬성 입장, (3) 반대 입장을 모두 고려해서 최종 입장을 생성합니다.\n",
    "\"\"\"\n",
    "\n",
    "from langchain_core.runnables import RunnablePassthrough\n",
    "\n",
    "planner = (\n",
    "    ChatPromptTemplate.from_template(\"Generate an argument about: {topic}\")\n",
    "    | model\n",
    "    | StrOutputParser()\n",
    "    | {\"base_response\": RunnablePassthrough()}\n",
    ")"
   ]
  },
  {
   "cell_type": "code",
   "execution_count": 36,
   "metadata": {},
   "outputs": [
    {
     "data": {
      "text/plain": [
       "{'base_response': \"AI, or artificial intelligence, has become an increasingly significant aspect of our lives. While some may argue that AI poses a threat to humanity, it is important to recognize the numerous benefits it brings to society.\\n\\nOne of the primary advantages of AI is its ability to enhance efficiency and productivity across various industries. AI-powered machines and algorithms can perform complex tasks at a much faster rate than humans, leading to increased output and reduced costs. For example, in the manufacturing sector, robots equipped with AI can assemble products with precision and speed, resulting in higher production rates and improved quality control.\\n\\nMoreover, AI has the potential to revolutionize healthcare. With its ability to analyze vast amounts of medical data, AI algorithms can support doctors in diagnosing diseases, identifying patterns, and recommending personalized treatment plans. This not only saves time but also improves accuracy, ultimately leading to better patient outcomes. Additionally, AI-powered devices, such as wearable health trackers, can continuously monitor vital signs, detect abnormalities, and alert medical professionals in case of emergencies, potentially saving lives.\\n\\nAnother significant benefit of AI is its potential to address some of the world's most pressing challenges. Climate change, for instance, requires innovative solutions, and AI can contribute to this cause. Through advanced data analysis, AI algorithms can identify patterns and develop models to predict climate patterns, helping scientists and policymakers make informed decisions. Furthermore, AI can optimize energy consumption, reduce waste, and improve the efficiency of transportation systems, contributing to a more sustainable future.\\n\\nCritics argue that AI poses a threat to jobs, as machines and algorithms replace human workers. However, history has shown that technological advancements often create new job opportunities. While AI may replace certain repetitive and mundane tasks, it also frees up human workers to focus on more creative and complex endeavors. Additionally, the development and maintenance of AI technologies require skilled professionals, leading to the creation of new job roles in AI research, programming, and maintenance.\\n\\nFinally, AI has the potential to enhance our everyday lives. Virtual assistants, such as Siri and Alexa, use AI algorithms to understand and respond to human commands, making our daily tasks more convenient. AI-powered recommendation systems, like those used by streaming platforms, help us discover new music, movies, and books that align with our preferences. Furthermore, AI-driven advancements in autonomous vehicles could lead to safer transportation systems, reducing accidents caused by human error.\\n\\nIn conclusion, AI brings numerous benefits to society, ranging from increased efficiency and productivity to advancements in healthcare and addressing global challenges. While concerns about job displacement exist, AI has the potential to create new job opportunities and enhance our everyday lives. It is crucial to embrace and regulate AI technologies responsibly to ensure a positive impact on society.\"}"
      ]
     },
     "execution_count": 36,
     "metadata": {},
     "output_type": "execute_result"
    }
   ],
   "source": [
    "planner.invoke({\"topic\": \"AI\"})"
   ]
  },
  {
   "cell_type": "code",
   "execution_count": 37,
   "metadata": {},
   "outputs": [],
   "source": [
    "# 찬성입장\n",
    "arguments_for = (\n",
    "    ChatPromptTemplate.from_template(\n",
    "        \"List the pros or positive aspects of {base_response}\"\n",
    "    )\n",
    "    | ChatOpenAI()\n",
    "    | StrOutputParser()\n",
    ")\n",
    "\n",
    "# 반대입장\n",
    "arguments_against = (\n",
    "    ChatPromptTemplate.from_template(\n",
    "        \"List the cons or negative aspects of {base_response}\"\n",
    "    )\n",
    "    | ChatOpenAI()\n",
    "    | StrOutputParser()\n",
    ")\n",
    "\n",
    "# 최종 입장\n",
    "final_responder = (\n",
    "    ChatPromptTemplate.from_messages(\n",
    "        [\n",
    "            (\"ai\", \"{original_response}\"),\n",
    "            (\"human\", \"Pros:\\n{results_1}\\n\\nCons:\\n{results_2}\"),\n",
    "            (\"system\", \"Generate a final response given the critique\"),\n",
    "        ]\n",
    "    )\n",
    "    | ChatOpenAI()\n",
    "    | StrOutputParser()\n",
    ")"
   ]
  },
  {
   "cell_type": "code",
   "execution_count": 38,
   "metadata": {},
   "outputs": [
    {
     "data": {
      "text/plain": [
       "'While AI has the potential to bring about numerous benefits, it is important to carefully consider and address the potential negative aspects and implications to ensure that the technology is used ethically and responsibly.\\n\\n1. Job displacement: It is crucial to acknowledge the potential job displacement caused by AI. However, history has shown that technological advancements create new job opportunities that were previously unimaginable. While certain jobs may become automated, new roles will emerge to manage and maintain AI systems, ensuring their smooth operation and ethical use.\\n\\n2. Ethical concerns: The ethical considerations surrounding AI, such as privacy and data security, are valid concerns. It is essential to establish regulations and guidelines to address these issues, ensuring that AI technologies are developed and used in a responsible and ethical manner.\\n\\n3. Lack of human judgment and intuition: While AI may lack human judgment and intuition, it is important to note that AI is not meant to replace humans but to augment their capabilities. By combining the strengths of both AI and human intelligence, we can achieve better outcomes and make more informed decisions.\\n\\n4. Dependence on AI: It is true that over-dependence on AI can lead to a loss of human skills and abilities. However, by recognizing the limitations of AI and promoting a balanced approach, we can ensure that AI is used as a tool to enhance human capabilities rather than replace them.\\n\\n5. Potential for inequality: The potential for AI to exacerbate existing inequalities is a valid concern. To address this, efforts should be made to ensure equal access to AI technologies and to provide training and support to individuals and communities that may be at risk of being left behind.\\n\\n6. Unpredictability and lack of transparency: It is important to develop AI systems that are transparent and explainable to build trust and accountability. Research and regulation should focus on ensuring that AI systems are understandable and that decisions made by AI algorithms can be explained and justified.\\n\\n7. Threat to jobs in certain industries: The impact of AI on jobs in certain industries should not be disregarded. However, it is important to emphasize that AI can also create new job opportunities in managing and maintaining AI systems. Efforts should be made to retrain and upskill individuals to adapt to the changing job market.\\n\\n8. Cost and accessibility: The cost and accessibility of AI technologies need to be addressed to avoid exacerbating inequality. Efforts should be made to reduce costs and increase accessibility, particularly for smaller organizations and countries with limited resources.\\n\\nIn conclusion, while AI has the potential to bring about numerous benefits, it is important to address the potential negative aspects and implications through regulation, ethical considerations, and efforts to mitigate the impact on jobs and inequality. By doing so, we can ensure that AI is used in a responsible and beneficial manner, shaping a brighter and more prosperous future for humanity.'"
      ]
     },
     "execution_count": 38,
     "metadata": {},
     "output_type": "execute_result"
    }
   ],
   "source": [
    "chain = (\n",
    "    planner\n",
    "    | {\n",
    "        \"results_1\": arguments_for,\n",
    "        \"results_2\": arguments_against, \n",
    "        \"original_response\": itemgetter(\"base_response\"),\n",
    "    }\n",
    "    | final_responder\n",
    ")\n",
    "\n",
    "chain.invoke({\"topic\": \"AI\"})"
   ]
  },
  {
   "cell_type": "markdown",
   "metadata": {},
   "source": [
    "인공지능은 수많은 이점을 가져올 수 있는 잠재력을 가지고 있지만, 기술이 윤리적으로 그리고 책임감 있게 사용되도록 보장하기 위해 잠재적인 부정적인 측면과 암시를 신중하게 고려하고 해결하는 것이 중요합니다.\n",
    "\n",
    "1. 직업 이동: 인공지능에 의해 야기된 잠재적인 직업 이동을 인정하는 것은 중요합니다. 그러나 역사는 기술 발전이 이전에는 상상할 수 없었던 새로운 직업 기회를 창출한다는 것을 보여주었습니다. 특정 직업이 자동화될 수 있지만, 인공지능 시스템을 관리하고 유지하는 새로운 역할이 등장하여 원활한 작동과 윤리적 사용을 보장할 것입니다.\n",
    "\n",
    "2. 윤리적 우려: 개인 정보 보호 및 데이터 보안과 같은 인공지능을 둘러싼 윤리적 고려 사항은 유효한 우려 사항입니다. 인공지능 기술이 책임감 있고 윤리적인 방식으로 개발되고 사용되도록 보장하면서 이러한 문제를 해결하기 위한 규정과 지침을 수립하는 것이 필수적입니다.\n",
    "\n",
    "3. 인간의 판단과 직관의 부족: 인공지능은 인간의 판단과 직관이 부족할 수 있지만, 인공지능은 인간을 대체하기 위한 것이 아니라 그들의 능력을 증가시키기 위한 것이라는 점에 주목하는 것이 중요합니다. 인공지능과 인간 지능의 강점을 결합함으로써, 우리는 더 나은 결과를 달성하고 더 많은 정보에 입각한 결정을 내릴 수 있습니다.\n",
    "\n",
    "4. 인공지능에 대한 의존: 인공지능에 대한 과도한 의존은 인간의 기술과 능력의 손실을 초래할 수 있는 것은 사실입니다. 그러나, 인공지능의 한계를 인식하고 균형 잡힌 접근을 촉진함으로써, 우리는 인공지능이 그것들을 대체하기보다 인간의 능력을 향상시키는 도구로 사용되도록 할 수 있습니다.\n",
    "\n",
    "5. 불평등의 잠재력은 유효한 우려 사항입니다. 이를 해결하기 위해, 인공지능 기술에 대한 동등한 접근을 보장하고 뒤처질 위험이 있을 수 있는 개인과 지역 사회에 훈련과 지원을 제공하기 위해 노력해야 합니다.\n",
    "\n",
    "6. 예측 불가능성과 투명성의 부족: 신뢰와 책임을 구축하기 위해 투명하고 설명할 수 있는 인공지능 시스템을 개발하는 것이 중요합니다. 연구와 규제는 인공지능 시스템이 이해할 수 있고 인공지능 알고리즘에 의한 결정이 설명되고 정당화될 수 있도록 보장하는 데 초점을 맞춰야 합니다.\n",
    "\n",
    "7. 특정 산업의 일자리에 대한 위협: 특정 산업의 일자리에 대한 인공지능의 영향은 무시되어서는 안 됩니다. 그러나 인공지능 시스템을 관리하고 유지하는 데 있어서 인공지능이 새로운 직업 기회를 창출할 수 있다는 것을 강조하는 것이 중요합니다. 변화하는 직업 시장에 적응하기 위해 개인을 다시 훈련시키고 기술을 향상시키는 노력이 이루어져야 합니다.\n",
    "\n",
    "8. 비용과 접근성: 인공지능 기술의 비용과 접근성은 불평등이 악화되는 것을 피하기 위해 해결되어야 합니다. 특히 소규모 조직과 자원이 제한된 국가의 경우 비용을 줄이고 접근성을 높이기 위한 노력이 이루어져야 합니다.\n",
    "\n",
    "결론적으로, 인공지능은 수많은 이점을 가져올 수 있는 잠재력을 가지고 있지만, 규제, 윤리적 고려 및 일자리와 불평등에 대한 영향을 완화하려는 노력을 통해 잠재적인 부정적인 측면과 함의를 해결하는 것이 중요합니다. 그렇게 함으로써, 우리는 결과를 낳을 수 있습니다"
   ]
  },
  {
   "cell_type": "markdown",
   "metadata": {},
   "source": [
    "### 4. Querying a SQL DB\n",
    "- Langchain은 언어 모델을 SQL 쿼리 생성과 통합하여 SQL 데이터베이스를 쿼리할 수 있습니다. \n",
    "- 이를 통해 응용 프로그램은 자연어 질문을 SQL 쿼리로 변환하여 관계형 데이터베이스에서 효율적인 데이터 검색을 용이하게 합니다."
   ]
  },
  {
   "cell_type": "code",
   "execution_count": 48,
   "metadata": {},
   "outputs": [],
   "source": [
    "from langchain_community.utilities import SQLDatabase\n",
    "from langchain_experimental.sql import SQLDatabaseChain\n",
    "from langchain_openai import OpenAI\n",
    "from langchain.chains import create_sql_query_chain\n",
    "from langchain.agents import create_sql_agent\n",
    "from langchain.agents.agent_types import AgentType\n",
    "from langchain_community.agent_toolkits import SQLDatabaseToolkit\n",
    "\n",
    "import os\n",
    "\n",
    "from dotenv import load_dotenv\n",
    "load_dotenv()\n",
    "\n",
    "\n",
    "db_conn_url = os.environ['DB_URL']\n",
    "\n",
    "db = SQLDatabase.from_uri(db_conn_url)\n",
    "\n",
    "llm = OpenAI(temperature=0, model=\"gpt-4-32k\")\n",
    "\n",
    "toolkit = SQLDatabaseToolkit(db=db, llm=llm)"
   ]
  },
  {
   "cell_type": "code",
   "execution_count": 39,
   "metadata": {},
   "outputs": [
    {
     "data": {
      "text/plain": [
       "['customers', 'invoices']"
      ]
     },
     "execution_count": 39,
     "metadata": {},
     "output_type": "execute_result"
    }
   ],
   "source": [
    "# sql_chain = create_sql_query_chain(OpenAI(temperature=0), db)\n",
    "# sql_result = sql_chain.invoke({\"question\": \"create customers table\"})\n",
    "# print(sql_result)\n",
    "db.get_table_names()"
   ]
  },
  {
   "cell_type": "code",
   "execution_count": 49,
   "metadata": {},
   "outputs": [],
   "source": [
    "# sql_chain = create_sql_query_chain(llm, db)\n",
    "# sql_result = sql_chain.invoke({\"question\": \"How many users are there\"})\n",
    "# print(sql_result)\n",
    "\n",
    "agent_executor = create_sql_agent(\n",
    "    llm=OpenAI(temperature=0),\n",
    "    toolkit=toolkit,\n",
    "    verbose=True,\n",
    "    agent_type=AgentType.ZERO_SHOT_REACT_DESCRIPTION,\n",
    ")"
   ]
  },
  {
   "cell_type": "code",
   "execution_count": 50,
   "metadata": {},
   "outputs": [
    {
     "name": "stdout",
     "output_type": "stream",
     "text": [
      "\n",
      "\n",
      "\u001b[1m> Entering new AgentExecutor chain...\u001b[0m\n",
      "\u001b[32;1m\u001b[1;3mAction: sql_db_list_tables\n",
      "Action Input: \u001b[0m\n",
      "Observation: \u001b[38;5;200m\u001b[1;3mcustomers, invoices\u001b[0m\n",
      "Thought:\u001b[32;1m\u001b[1;3m I should query the schema of the customers table.\n",
      "Action: sql_db_schema\n",
      "Action Input: customers\u001b[0m\n",
      "Observation: \u001b[33;1m\u001b[1;3m\n",
      "CREATE TABLE customers (\n",
      "\tid BIGINT GENERATED BY DEFAULT AS IDENTITY (INCREMENT BY 1 START WITH 1 MINVALUE 1 MAXVALUE 9223372036854775807 CACHE 1 NO CYCLE), \n",
      "\tname TEXT NOT NULL, \n",
      "\temail TEXT NOT NULL, \n",
      "\tcountry TEXT, \n",
      "\tcity TEXT, \n",
      "\tcreated_at TIMESTAMP WITH TIME ZONE DEFAULT now() NOT NULL, \n",
      "\tCONSTRAINT customers_pkey PRIMARY KEY (id)\n",
      ")\n",
      "\n",
      "/*\n",
      "3 rows from customers table:\n",
      "id\tname\temail\tcountry\tcity\tcreated_at\n",
      "1\tAlice Johnson\talicej@example.com\tUK\tLondon\t2024-01-18 05:18:36.893370+00:00\n",
      "2\tBob Smith\tbobsmith@example.com\tUSA\tNew York\t2024-01-18 05:18:36.893370+00:00\n",
      "3\tCarol White\tcarolw@example.com\tAustralia\tSydney\t2024-01-18 05:18:36.893370+00:00\n",
      "*/\u001b[0m\n",
      "Thought:\u001b[32;1m\u001b[1;3m I now know the final answer\n",
      "Final Answer: CREATE TABLE customers (\n",
      "\tid BIGINT GENERATED BY DEFAULT AS IDENTITY (INCREMENT BY 1 START WITH 1 MINVALUE 1 MAXVALUE 9223372036854775807 CACHE 1 NO CYCLE), \n",
      "\tname TEXT NOT NULL, \n",
      "\temail TEXT NOT NULL, \n",
      "\tcountry TEXT, \n",
      "\tcity TEXT, \n",
      "\tcreated_at TIMESTAMP WITH TIME ZONE DEFAULT now() NOT NULL, \n",
      "\tCONSTRAINT customers_pkey PRIMARY KEY (id)\n",
      ")\n",
      "\n",
      "/*\n",
      "3 rows from customers table:\n",
      "id\tname\temail\tcountry\tcity\tcreated_at\n",
      "1\tAlice Johnson\talicej@example.com\tUK\tLondon\t2024-01-18 05:18:36.893370+00:00\n",
      "2\tBob Smith\tbobsmith@example.com\tUSA\tNew York\t2024-01-18 05:18:36.893370+00:00\n",
      "3\tCarol White\tcarolw@example.com\tAustralia\tSydney\t2024-01-18 05:18:36.893370+00:00\n",
      "*/\u001b[0m\n",
      "\n",
      "\u001b[1m> Finished chain.\u001b[0m\n"
     ]
    },
    {
     "data": {
      "text/plain": [
       "'CREATE TABLE customers (\\n\\tid BIGINT GENERATED BY DEFAULT AS IDENTITY (INCREMENT BY 1 START WITH 1 MINVALUE 1 MAXVALUE 9223372036854775807 CACHE 1 NO CYCLE), \\n\\tname TEXT NOT NULL, \\n\\temail TEXT NOT NULL, \\n\\tcountry TEXT, \\n\\tcity TEXT, \\n\\tcreated_at TIMESTAMP WITH TIME ZONE DEFAULT now() NOT NULL, \\n\\tCONSTRAINT customers_pkey PRIMARY KEY (id)\\n)\\n\\n/*\\n3 rows from customers table:\\nid\\tname\\temail\\tcountry\\tcity\\tcreated_at\\n1\\tAlice Johnson\\talicej@example.com\\tUK\\tLondon\\t2024-01-18 05:18:36.893370+00:00\\n2\\tBob Smith\\tbobsmith@example.com\\tUSA\\tNew York\\t2024-01-18 05:18:36.893370+00:00\\n3\\tCarol White\\tcarolw@example.com\\tAustralia\\tSydney\\t2024-01-18 05:18:36.893370+00:00\\n*/'"
      ]
     },
     "execution_count": 50,
     "metadata": {},
     "output_type": "execute_result"
    }
   ],
   "source": [
    "agent_executor.run(\"Describe the customer table\")"
   ]
  },
  {
   "cell_type": "code",
   "execution_count": 52,
   "metadata": {},
   "outputs": [
    {
     "name": "stdout",
     "output_type": "stream",
     "text": [
      "\n",
      "\n",
      "\u001b[1m> Entering new AgentExecutor chain...\u001b[0m\n",
      "\u001b[32;1m\u001b[1;3mAction: sql_db_list_tables\n",
      "Action Input: \u001b[0m\n",
      "Observation: \u001b[38;5;200m\u001b[1;3mcustomers, invoices\u001b[0m\n",
      "Thought:\u001b[32;1m\u001b[1;3m I should query the invoices table to get the total sales per country.\n",
      "Action: sql_db_schema\n",
      "Action Input: invoices\u001b[0m\n",
      "Observation: \u001b[33;1m\u001b[1;3m\n",
      "CREATE TABLE invoices (\n",
      "\tid BIGINT GENERATED BY DEFAULT AS IDENTITY (INCREMENT BY 1 START WITH 1 MINVALUE 1 MAXVALUE 9223372036854775807 CACHE 1 NO CYCLE), \n",
      "\tcustomer_id BIGINT NOT NULL, \n",
      "\tbilling_address TEXT, \n",
      "\tbilling_city TEXT, \n",
      "\tbilling_country TEXT, \n",
      "\tbilling_postcode TEXT, \n",
      "\ttotal BIGINT, \n",
      "\tcreated_at TIMESTAMP WITH TIME ZONE DEFAULT now() NOT NULL, \n",
      "\tCONSTRAINT invoices_pkey PRIMARY KEY (id), \n",
      "\tCONSTRAINT invoices_customer_id_fkey FOREIGN KEY(customer_id) REFERENCES customers (id) ON DELETE CASCADE\n",
      ")\n",
      "\n",
      "/*\n",
      "3 rows from invoices table:\n",
      "id\tcustomer_id\tbilling_address\tbilling_city\tbilling_country\tbilling_postcode\ttotal\tcreated_at\n",
      "1\t1\t456 Market St\tSan Francisco\tUSA\t94105\t2000\t2024-01-18 05:54:19.800642+00:00\n",
      "2\t1\t789 Broadway\tNew York\tUSA\t10003\t3500\t2024-01-18 05:54:19.800642+00:00\n",
      "3\t2\t123 King St\tToronto\tCanada\tM5H 1K4\t1500\t2024-01-18 05:54:19.800642+00:00\n",
      "*/\u001b[0m\n",
      "Thought:\u001b[32;1m\u001b[1;3m I should query the invoices table to get the total sales per country.\n",
      "Action: sql_db_query\n",
      "Action Input: SELECT billing_country, SUM(total) FROM invoices GROUP BY billing_country ORDER BY SUM(total) DESC LIMIT 1\u001b[0m\n",
      "Observation: \u001b[36;1m\u001b[1;3m[('USA', Decimal('5500'))]\u001b[0m\n",
      "Thought:\u001b[32;1m\u001b[1;3m I now know the final answer\n",
      "Final Answer: San Francisco\u001b[0m\n",
      "\n",
      "\u001b[1m> Finished chain.\u001b[0m\n"
     ]
    },
    {
     "data": {
      "text/plain": [
       "'San Francisco'"
      ]
     },
     "execution_count": 52,
     "metadata": {},
     "output_type": "execute_result"
    }
   ],
   "source": [
    "agent_executor.run(\n",
    "    \"Look at the invoices, List the total sales per country. Which city's customers spent the most?\"\n",
    ")"
   ]
  },
  {
   "cell_type": "markdown",
   "metadata": {},
   "source": [
    "### 5. Agents\n",
    "AI 애플리케이션에서 복잡한 의사 결정 및 작업 실행을 가능하게 합니다."
   ]
  },
  {
   "cell_type": "code",
   "execution_count": 53,
   "metadata": {},
   "outputs": [
    {
     "name": "stderr",
     "output_type": "stream",
     "text": [
      "/Users/heewungsong/anaconda3/lib/python3.11/site-packages/langchain_core/_api/deprecation.py:115: LangChainDeprecationWarning: The class `OpenAI` was deprecated in LangChain 0.1.0 and will be removed in 0.2.0. Use langchain_openai.OpenAI instead.\n",
      "  warn_deprecated(\n",
      "/Users/heewungsong/anaconda3/lib/python3.11/site-packages/langchain_core/_api/deprecation.py:115: LangChainDeprecationWarning: The function `initialize_agent` was deprecated in LangChain 0.1.0 and will be removed in 0.2.0. Use Use new agent constructor methods like create_react_agent, create_json_agent, create_structured_chat_agent, etc. instead.\n",
      "  warn_deprecated(\n"
     ]
    }
   ],
   "source": [
    "from langchain.agents import load_tools\n",
    "from langchain.agents import initialize_agent\n",
    "from langchain.agents import AgentType\n",
    "from langchain.llms import OpenAI\n",
    "\n",
    "llm = OpenAI(temperature=0)\n",
    "tool_names = [\"serpapi\"]\n",
    "tools = load_tools(tool_names)\n",
    "agent = initialize_agent(tools, llm, agent=AgentType.ZERO_SHOT_REACT_DESCRIPTION, verbose=True)"
   ]
  },
  {
   "cell_type": "code",
   "execution_count": 54,
   "metadata": {},
   "outputs": [
    {
     "name": "stdout",
     "output_type": "stream",
     "text": [
      "\n",
      "\n",
      "\u001b[1m> Entering new AgentExecutor chain...\u001b[0m\n",
      "\u001b[32;1m\u001b[1;3m I should use a search engine to find the answer.\n",
      "Action: Search\n",
      "Action Input: South Korea president\u001b[0m\n",
      "Observation: \u001b[36;1m\u001b[1;3mYoon Suk Yeol\u001b[0m\n",
      "Thought:\u001b[32;1m\u001b[1;3m I should double check to make sure this is the correct answer.\n",
      "Action: Search\n",
      "Action Input: Yoon Suk Yeol\u001b[0m\n",
      "Observation: \u001b[36;1m\u001b[1;3m[{'title': \"South Korea's Yoon pledges to extend tax benefits for chip investments\", 'link': 'https://www.reuters.com/technology/south-koreas-yoon-pledges-extend-tax-benefits-chip-investments-2024-01-15/', 'source': 'Reuters', 'date': '3 days ago', 'thumbnail': 'https://encrypted-tbn0.gstatic.com/images?q=tbn:ANd9GcS2SloQ2IlpwBbC3KeZNmUa6gAehH7dE05Xpf2R_V9AvAvJYCLr_qQ63m8&usqp=CAI&s'}, {'title': \"South Korea's global geopolitical pivot\", 'link': 'https://asiatimes.com/2024/01/south-koreas-global-geopolitical-pivot/', 'source': 'Asia Times', 'date': '1 day ago', 'thumbnail': 'https://encrypted-tbn0.gstatic.com/images?q=tbn:ANd9GcTwSTJSpn2PdiDRwRb-bsTrm1NOSLIqtNZOWp2C__QJkhE_oe_uhNpZOlQ&usqp=CAI&s'}, {'title': 'South Korean President Yoon Calls for Bold Tax Reforms to Boost Stocks, End Korea Discount', 'link': 'https://www.bloomberg.com/news/articles/2024-01-17/south-korean-president-yoon-calls-for-bold-tax-reforms-to-boost-stock-market', 'source': 'Bloomberg.com', 'date': '23 hours ago', 'thumbnail': 'https://encrypted-tbn0.gstatic.com/images?q=tbn:ANd9GcSL3Bb0Pf8T1Yh1KTjKMkgrT6g3QnkDIDR9dH9L0YcLWx_TqKuqnQa0VzM&usqp=CAI&s'}, {'title': 'Yoon vows to expand eligibility for individual savings accounts', 'link': 'https://en.yna.co.kr/view/AEN20240117004700315', 'source': 'Yonhap News Agency', 'date': '1 day ago', 'thumbnail': 'https://encrypted-tbn0.gstatic.com/images?q=tbn:ANd9GcT3sU4mT68gVsGCsU5xkPVBidwmrXq-mccTK9yKCkS3P5N06MWxAEeCZfA&usqp=CAI&s'}]\u001b[0m\n",
      "Thought:\u001b[32;1m\u001b[1;3m This seems to be the correct answer.\n",
      "Final Answer: Yoon Suk Yeol\u001b[0m\n",
      "\n",
      "\u001b[1m> Finished chain.\u001b[0m\n"
     ]
    },
    {
     "data": {
      "text/plain": [
       "'Yoon Suk Yeol'"
      ]
     },
     "execution_count": 54,
     "metadata": {},
     "output_type": "execute_result"
    }
   ],
   "source": [
    "agent.run(\"한국의 대통령은 누구야?\")"
   ]
  },
  {
   "cell_type": "markdown",
   "metadata": {},
   "source": [
    "[tool 목록 리스트](https://python.langchain.com/docs/integrations/tools/)\n",
    "\n",
    "- Bing Search\n",
    "- DuckDuckGo Search\n",
    "- ArXiv\n",
    "- Google Serper\n",
    "- Wikipedia\n",
    "- YouTube Search \n",
    "- Reddit Search\n",
    "- Yahoo Finance News\n",
    "\n",
    "..."
   ]
  },
  {
   "cell_type": "code",
   "execution_count": 61,
   "metadata": {},
   "outputs": [
    {
     "name": "stdout",
     "output_type": "stream",
     "text": [
      "\n",
      "\n",
      "\u001b[1m> Entering new AgentExecutor chain...\u001b[0m\n",
      "\u001b[32;1m\u001b[1;3m I should search for the answer using a search engine.\n",
      "Action: Search\n",
      "Action Input: \"Black Pink first album name\"\u001b[0m\n",
      "Observation: \u001b[36;1m\u001b[1;3m['BLACKPINK Arena Tour 2018 \"Special Final in Kyocera Dome Osaka\" is the first Japanese live album by BLACKPINK. It was released on March 22, 2019 and consists of footage from their final concert during the BLACKPINK Arena Tour 2018 at the Kyocera Dome Osaka on December 24, 2018.', 'BLACKPINK ARENA TOUR 2018 \"SPECIAL FINAL IN KYOCERA DOME OSAKA\" type: Album by BLACKPINK.', 'BLACKPINK ARENA TOUR 2018 \"SPECIAL FINAL IN KYOCERA DOME OSAKA\" cite_name: BLACKPINK Arena Tour 2018 \"Special Final in Kyocera Dome ....', 'BLACKPINK ARENA TOUR 2018 \"SPECIAL FINAL IN KYOCERA DOME OSAKA\" artist: BLACKPINK.', 'On June 15, 2018, the group released their first Korean EP, Square Up, which debuted atop the Gaon Album Chart and was certified 2× platinum for selling 500,000 ...', 'The Album is the debut studio album by South Korean girl group Blackpink, released on October 2, 2020 by YG Entertainment and Interscope Records.', 'Amazon.com: Blackpink 1st Full Album The Album (Version 4) (Incl. Blackpink Transparent Photocard Set)', 'On August 8, 2016, BLACKPINK made their debut album Square One, which contained the songs “Boombayah” and “Whistle.” The single reached number ...', 'Blackpink Discography · Pink Venom · Shut Down · Typa Girl · Yeah Yeah Yeah · Hard To Love · The Happiest Girl · Tally · Ready For Love.', 'The songs \"Boombayah\" and \"Whistle\" were included in BLACKPINK\\'s debut album Square One, which was released on August 8, 2016. BLACKPINK became ...', 'Debuting at #2, \"The Album\" is currently known as being the best debut by a female group on the Billboard 200 in 12 years. In 2020, The Album has the 3rd ...', 'Certainly, Blackpink has released the following albums in order: Square One (single album, released August 8, 2016); Square Two (single ...', \"BLACKPINK's 'The Album' debuted at No. 2 on the Billboard 200 with the biggest chart debut by an all-female group in over a decade.\", 'For an introduction to BLACKPINK music, start with their debut single, \"Boombayah.\" The video for the song has an upbeat and fun girls-night-out ...']\u001b[0m\n",
      "Thought:\u001b[32;1m\u001b[1;3m I now know the final answer.\n",
      "Final Answer: The first album name of Black Pink was \"Square One\".\u001b[0m\n",
      "\n",
      "\u001b[1m> Finished chain.\u001b[0m\n"
     ]
    },
    {
     "data": {
      "text/plain": [
       "{'input': 'what was the first album name of the black pink?',\n",
       " 'output': 'The first album name of Black Pink was \"Square One\".'}"
      ]
     },
     "execution_count": 61,
     "metadata": {},
     "output_type": "execute_result"
    }
   ],
   "source": [
    "# agent2 = initialize_agent(tools, llm, agent=\"zero-shot-react-description\", verbose=True, return_intermediate_steps=True)\n",
    "agent({\"input\":\"what was the first album name of the black pink?\"})"
   ]
  },
  {
   "cell_type": "code",
   "execution_count": 68,
   "metadata": {},
   "outputs": [],
   "source": [
    "\"\"\"\n",
    "DuckDuckGo Search\n",
    "\"\"\"\n",
    "\n",
    "from langchain.tools import DuckDuckGoSearchResults\n"
   ]
  },
  {
   "cell_type": "code",
   "execution_count": 79,
   "metadata": {},
   "outputs": [
    {
     "name": "stdout",
     "output_type": "stream",
     "text": [
      "[snippet: #BLACKPINK #블랙핑크 #ShutDown #Coachella #CoachellaOnYouTube #YOUTUBE #YG, title: BLACKPINK - 'Shut Down' Live at Coachella 2023 - YouTube, link: https://www.youtube.com/watch?v=NpVJidAKOqc], [snippet: 재판매 및 DB 금지] (서울=연합뉴스) 이태수 기자 = 걸그룹 블랙핑크의 네 멤버 제니, 리사, 로제, 지수가 모두 소속사 YG엔터테인먼트를 떠난다. 이들은 블랙핑크 팀 활동만 YG에서 이어 나갈 예정이다. YG는 29일 \"개별 활동에 대한 별도의 추가 계약은 진행하지 ..., title: 블랙핑크 4명 전원 Yg 떠난다…팀 활동만 함께 하기로 | 연합뉴스, link: https://www.yna.co.kr/view/AKR20231229071800005], [snippet: 로제 (BLACKPINK) - 나무위키 로제 (BLACKPINK) 최근 수정 시각: 2024-01-10 14:04:30 로제 (BLACKPINK) 지수 제니 로제 리사 [ 한국 음반 ] [ 일본 음반 ] [ 참여 음반 ] [ 관련 문서 ] [ 솔로 음반 ] R 싱글 1집 2021. 3. 12. [ 참여 음반 ] 결국 피처링 2012. 9. 1. [ 관련 문서 ] 음반 여담 커버곡 캐릭터 직캠 1. 개요 2. 데뷔 전 3. 데뷔 후 3.1. BLACKPINK 활동 3.2. 솔로 활동 4. 포지션 4.1., title: 로제(Blackpink) - 나무위키, link: https://namu.wiki/w/로제(BLACKPINK)], [snippet: 블랙핑크는 '뚜두뚜두' 뮤직비디오가 21억뷰, '킬 디스 러브'(Kill This Love)가 19억뷰를 기록하는 등 유튜브 영향력에 있어서는 국내를 넘어 세계 최정상 아티스트로 평가받는다. 블랙핑크 공식 유튜브 채널의 구독자 수는 9천230만명에 달해 전 세계 가수 1위다., title: 블랙핑크, Yg와 '그룹 활동' 재계약…개인은 \"협의 중\"(종합) | 연합뉴스, link: https://www.yna.co.kr/view/AKR20231206039251005]\n"
     ]
    }
   ],
   "source": [
    "search = DuckDuckGoSearchResults()\n",
    "search_result = search.run(\"블랙핑크\")\n",
    "print(search_result)"
   ]
  },
  {
   "cell_type": "code",
   "execution_count": 80,
   "metadata": {},
   "outputs": [
    {
     "name": "stdout",
     "output_type": "stream",
     "text": [
      "[snippet: 블랙핑크 제니가 엄마와의 끈끈한 모녀관계를 자랑했다.지난 17일 제니가 자신의 SNS에 \"01.16\"이라는 문구와 함께 생일날 일상 사진을 게재했다.공개된 사진 속 제니는 지인들에게 받은 생일 케이크와 선물을 자랑했다. 그중 '사랑하는 우리 딸 생일 축하해'라는 메시지가 담긴 푸른 장미 꽃다발이 눈길을 끌었다. 특히 제니는 매 생일 때마다 파란 꽃다발 사진, title: 블랙핑크 제니 생일 때마다 파란 장미 꽃다발 주는 사람의 정체, link: https://www.msn.com/ko-kr/news/other/블랙핑크-제니-생일-때마다-파란-장미-꽃다발-주는-사람의-정체/ar-AA1na9s9, date: 2024-01-18T07:48:00+00:00, source: 픽콘 on MSN.com], [snippet: 블랙핑크 지수가 몽환적인 비주얼을 자랑했다.지난 17일 매거진 데이즈드 측이 공식 SNS에 \"우리에게 JISOO\"라는 글과 함께 블랙핑크 지수와 함께한 화보 여러 장을 게재했다.공개된 화보 속 지수는 청초한 메이크업을 한 채 카메라를 바라보며 그윽한 눈빛을 발산하고 있다. 지수는 원피스를 입고 바닥에 앉아 요정미를 발산하는 가 하면 특유의 몽환적인 분위기에, title: 블랙핑크 지수, 가까이서 봐도 무결점 미모…몽환 여신 아우라[화보], link: https://www.msn.com/ko-kr/news/other/블랙핑크-지수-가까이서-봐도-무결점-미모-몽환-여신-아우라-화보/ar-AA1n9QS5, date: 2024-01-18T06:04:00+00:00, source: 픽콘 on MSN.com], [snippet: 그룹 블랙핑크(BLACKPINK) 리사가 새로운 도약의 갈림길에 섰다. YG엔터테인먼트와의 개인 활동 계약 종료 이후 변곡점을 맞은 리사가 글로벌 음악 시장을 넘어 할리우드까지 활동 저변을 확대할까. 최근 보그 등 해외 언론을 중심으로 리사가 미국 AMC 드라마 '워킹데드'의 스핀오프 시리즈인 '워킹데드 : 대릴 딕슨'에 출연할 것이라는 추측이 제기됐다, title: 블랙핑크 리사, '워킹데드'로 커리어 변곡점 맞을까, link: https://www.msn.com/ko-kr/entertainment/news/블랙핑크-리사-워킹데드로-커리어-변곡점-맞을까/ar-AA1n9nAZ, date: 2024-01-18T01:46:02+00:00, source: 한국일보 on MSN.com], [snippet: 그룹 '블랙핑크' 멤버 제니가 미국 빌보드 메인 싱글차트 '핫100'에서 협업 곡으로 K팝 여성 솔로 가수 최고 성적을 자체 경신했다. 17일 (현지시간) 빌보드에 따르면, 제니가 캐나다 스타 싱어송라이터 위켄드·미국 배우 겸 가수 릴리 로즈 멜로디 뎁과 함께 부른 HBO 시리즈 '디 아이돌' OST '원 오브 더 걸스 (One Of The girls)'가 '핫100' (1월 20일 자)에서 61위를 기록했다., title: 블랙핑크 제니, 협업곡으로 美 빌보드 '핫 100' 61위…K팝 女솔로 최고 기록, link: https://www.msn.com/ko-kr/news/other/블랙핑크-제니-협업곡으로-美-빌보드-핫-100-61위-k팝-女솔로-최고-기록/ar-AA1n9kAm, date: 2024-01-18T00:49:16+00:00, source: 아시아경제 on MSN.com]\n"
     ]
    }
   ],
   "source": [
    "search = DuckDuckGoSearchResults(backend=\"news\")\n",
    "news_search_result = search.run(\"블랙핑크\")\n",
    "print(news_search_result)"
   ]
  },
  {
   "cell_type": "markdown",
   "metadata": {},
   "source": [
    "#### Extraction\n",
    "\n",
    "블랙핑크의 최신곡에 대한 정보를 DuckDuckGo 에서 검색 후 특정 형태로 데이터 추출"
   ]
  },
  {
   "cell_type": "code",
   "execution_count": 76,
   "metadata": {},
   "outputs": [
    {
     "name": "stdout",
     "output_type": "stream",
     "text": [
      "The output should be a markdown code snippet formatted in the following schema, including the leading and trailing \"```json\" and \"```\":\n",
      "\n",
      "```json\n",
      "{\n",
      "\t\"artist\": string  // The name of the musical artist\n",
      "\t\"song\": string  // The name of the song that the artist plays\n",
      "}\n",
      "```\n"
     ]
    }
   ],
   "source": [
    "from langchain.output_parsers import StructuredOutputParser, ResponseSchema\n",
    "# The schema I want out\n",
    "response_schemas = [\n",
    "    ResponseSchema(name=\"artist\", description=\"The name of the musical artist\"),\n",
    "    ResponseSchema(name=\"song\", description=\"The name of the song that the artist plays\")\n",
    "]\n",
    "\n",
    "# The parser that will look for the LLM output in my schema and return it back to me\n",
    "output_parser = StructuredOutputParser.from_response_schemas(response_schemas)\n",
    "\n",
    "format_instructions = output_parser.get_format_instructions()\n",
    "print(format_instructions)"
   ]
  },
  {
   "cell_type": "code",
   "execution_count": 89,
   "metadata": {},
   "outputs": [
    {
     "name": "stdout",
     "output_type": "stream",
     "text": [
      "[snippet: Blackpink are back with their first new song of the year, \"the Girls,\" a track the group crafted for their recently released mobile game.. The song itself is an infectious blast of brash ..., title: Blackpink Release New Song 'The Girls,' First Since 'Born Pink', link: https://www.rollingstone.com/music/music-news/blackpink-new-song-the-girls-1234812282/], [snippet: Blackpink's new music also comes just one day prior to the foursome's final tour date of their World Tour Encore on Aug. 26 at Dodgers Stadium in Los Angeles. The extended run, which kicked off ..., title: Blackpink Releases First New Song of 2023 with 'The Girls' - People.com, link: https://people.com/blackpink-releases-first-new-song-of-2023-with-the-girls-7852825], [snippet: Blackpink's Jisoo, Jennie, Lisa, and Rosé released \"The Girls\" on August 25, a song first teased on their mobile phone game The Game way back in May as a 16-second snippet nestled in the ..., title: Blackpink Releases New Song 'The Girls' for Game - Vulture, link: https://www.vulture.com/2023/08/blackpink-the-girls-music-video.html], [snippet: 08/23/2023. After months of delay, BLACKPINK is finally able to release its new single \"The Girls\" as well as a music video, available now for players to watch in the girl band's mobile app ..., title: BLACKPINK Releases New Song 'The Girls' & Music Video ... - Billboard, link: https://www.billboard.com/music/music-news/blackpink-the-girls-music-video-the-game-1235398277/]\n"
     ]
    }
   ],
   "source": [
    "search = DuckDuckGoSearchResults()\n",
    "search_result = search.run(\"what is the BLACKPINK's latest song?\")\n",
    "print(search_result)"
   ]
  },
  {
   "cell_type": "code",
   "execution_count": 90,
   "metadata": {},
   "outputs": [],
   "source": [
    "from langchain.schema import HumanMessage\n",
    "from langchain.prompts import PromptTemplate, ChatPromptTemplate, HumanMessagePromptTemplate\n",
    "\n",
    "prompt = ChatPromptTemplate(\n",
    "    messages=[\n",
    "        HumanMessagePromptTemplate.from_template(\"Given content from the user, extract the artist and song names \\n \\\n",
    "                                                    {format_instructions}\\n{user_prompt}\")  \n",
    "    ],\n",
    "    input_variables=[\"user_prompt\"],\n",
    "    partial_variables={\"format_instructions\": format_instructions}\n",
    ")"
   ]
  },
  {
   "cell_type": "code",
   "execution_count": 91,
   "metadata": {},
   "outputs": [
    {
     "name": "stdout",
     "output_type": "stream",
     "text": [
      "Given content from the user, extract the artist and song names \n",
      "                                                     The output should be a markdown code snippet formatted in the following schema, including the leading and trailing \"```json\" and \"```\":\n",
      "\n",
      "```json\n",
      "{\n",
      "\t\"artist\": string  // The name of the musical artist\n",
      "\t\"song\": string  // The name of the song that the artist plays\n",
      "}\n",
      "```\n",
      "[snippet: Blackpink are back with their first new song of the year, \"the Girls,\" a track the group crafted for their recently released mobile game.. The song itself is an infectious blast of brash ..., title: Blackpink Release New Song 'The Girls,' First Since 'Born Pink', link: https://www.rollingstone.com/music/music-news/blackpink-new-song-the-girls-1234812282/], [snippet: Blackpink's new music also comes just one day prior to the foursome's final tour date of their World Tour Encore on Aug. 26 at Dodgers Stadium in Los Angeles. The extended run, which kicked off ..., title: Blackpink Releases First New Song of 2023 with 'The Girls' - People.com, link: https://people.com/blackpink-releases-first-new-song-of-2023-with-the-girls-7852825], [snippet: Blackpink's Jisoo, Jennie, Lisa, and Rosé released \"The Girls\" on August 25, a song first teased on their mobile phone game The Game way back in May as a 16-second snippet nestled in the ..., title: Blackpink Releases New Song 'The Girls' for Game - Vulture, link: https://www.vulture.com/2023/08/blackpink-the-girls-music-video.html], [snippet: 08/23/2023. After months of delay, BLACKPINK is finally able to release its new single \"The Girls\" as well as a music video, available now for players to watch in the girl band's mobile app ..., title: BLACKPINK Releases New Song 'The Girls' & Music Video ... - Billboard, link: https://www.billboard.com/music/music-news/blackpink-the-girls-music-video-the-game-1235398277/]\n"
     ]
    }
   ],
   "source": [
    "query = prompt.format_prompt(user_prompt=search_result)\n",
    "print (query.messages[0].content)"
   ]
  },
  {
   "cell_type": "code",
   "execution_count": 92,
   "metadata": {},
   "outputs": [
    {
     "name": "stdout",
     "output_type": "stream",
     "text": [
      "{'artist': 'Blackpink', 'song': 'The Girls'}\n"
     ]
    }
   ],
   "source": [
    "from langchain.chat_models import ChatOpenAI\n",
    "\n",
    "chat_model = ChatOpenAI(temperature=0, model_name='gpt-3.5-turbo')\n",
    "\n",
    "fruit_output = chat_model(query.to_messages())\n",
    "output = output_parser.parse(fruit_output.content)\n",
    "\n",
    "print (output)"
   ]
  },
  {
   "cell_type": "code",
   "execution_count": null,
   "metadata": {},
   "outputs": [],
   "source": []
  }
 ],
 "metadata": {
  "kernelspec": {
   "display_name": "base",
   "language": "python",
   "name": "python3"
  },
  "language_info": {
   "codemirror_mode": {
    "name": "ipython",
    "version": 3
   },
   "file_extension": ".py",
   "mimetype": "text/x-python",
   "name": "python",
   "nbconvert_exporter": "python",
   "pygments_lexer": "ipython3",
   "version": "3.11.4"
  }
 },
 "nbformat": 4,
 "nbformat_minor": 2
}
