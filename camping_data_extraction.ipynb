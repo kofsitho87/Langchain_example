{
 "cells": [
  {
   "cell_type": "code",
   "execution_count": 2,
   "metadata": {},
   "outputs": [],
   "source": [
    "\"\"\"\n",
    "Basic Example\n",
    "\"\"\"\n",
    "\n",
    "from langchain_core.prompts import ChatPromptTemplate\n",
    "from langchain_openai import ChatOpenAI\n",
    "\n",
    "from dotenv import load_dotenv\n",
    "load_dotenv()\n",
    "\n",
    "\n",
    "prompt = ChatPromptTemplate.from_template(\"{something}은 캠핑장 예약과 관련된 정보이다. 내용을 이해하라\")\n"
   ]
  },
  {
   "cell_type": "code",
   "execution_count": 3,
   "metadata": {},
   "outputs": [],
   "source": [
    "\n",
    "model = ChatOpenAI(model=\"gpt-3.5-turbo\")"
   ]
  },
  {
   "cell_type": "code",
   "execution_count": 4,
   "metadata": {},
   "outputs": [],
   "source": [
    "chain = prompt | model"
   ]
  },
  {
   "cell_type": "code",
   "execution_count": 5,
   "metadata": {},
   "outputs": [],
   "source": [
    "something = \"\"\"\n",
    "[양도] 한알캠핑장 2연석 양도합니다(전체 우레탄 싸이트)\n",
    "\n",
    "1. 캠핑장 명 :  한알캠핑장\n",
    "\n",
    "​\n",
    "\n",
    "2. 이름 :  정지은\n",
    "\n",
    "​\n",
    "\n",
    "3. 예약내역 :  2월 23~25일\n",
    "\n",
    "​\n",
    "\n",
    "4. 예약사이트(URL) :  캠핏\n",
    "\n",
    "​\n",
    "\n",
    "5. 가격 : 2박3일 160,000원 (2연석이니 ×2)\n",
    "\n",
    "​\n",
    "\n",
    "6. 취소시간 :  \n",
    "\n",
    "​\n",
    "\n",
    "7. 특이사항 : \n",
    "\n",
    "​\n",
    "\n",
    "한알캠핑장은 전면 우레탄으로 되있는\n",
    "\n",
    "추위 비 눈 걱정없는 캠핑장입니다\n",
    "\n",
    "가평이고요\n",
    "\n",
    "​\n",
    "\n",
    "2월 23~25일 2자리 연석 양도합니다\n",
    "\n",
    "​\n",
    "\n",
    "키즈존 3번 4번 한번에 양도합니다\n",
    "\n",
    "​\n",
    "\n",
    "한알 이미 여러번간 단골캠인데\n",
    "\n",
    "친언니와 같이 가고싶어 바로옆자리로 잡았었어요\n",
    "\n",
    "근데 유치원방학이 한주 미뤄져서\n",
    "\n",
    "캠가는주랑 겹치게되어 양도내놓습니다\n",
    "\n",
    "그 다음주로 교환할까 하다가 복잡할까봐\n",
    "\n",
    "그냥 양도합니다ㅜ\n",
    "\n",
    "양도양수 이뤄지게되면 반품 취소 불가합니다,\n",
    "\"\"\""
   ]
  },
  {
   "cell_type": "code",
   "execution_count": 6,
   "metadata": {},
   "outputs": [],
   "source": [
    "\"\"\"\n",
    "Attaching Function Call information\n",
    "\"\"\"\n",
    "\n",
    "from langchain.output_parsers.openai_functions import JsonOutputFunctionsParser\n",
    "functions = [\n",
    "    {\n",
    "        \"name\": \"get_camping_info\",\n",
    "        \"description\": \"extract camping info\",\n",
    "        \"parameters\": {\n",
    "            \"type\": \"object\",\n",
    "            \"properties\": {\n",
    "                \"camping_site_name\": {\n",
    "                    \"type\": \"string\", \n",
    "                    \"description\": \"캠핑장이름, 캠핑장명\"\n",
    "                },\n",
    "                \"reservation_name\": {\n",
    "                    \"type\": \"string\",\n",
    "                    \"description\": \"캠핑장 예약자 이름\",\n",
    "                },\n",
    "                \"reservation_time\": {\n",
    "                    \"type\": \"string\",\n",
    "                    \"description\": \"YYYY-MM-DD format\",\n",
    "                },\n",
    "                \"price\": {\n",
    "                    \"type\": \"number\",\n",
    "                    \"description\": \"캠핑장 가격\",\n",
    "                },\n",
    "                \"special_note\": {\n",
    "                    \"type\": \"string\",\n",
    "                    \"description\": \"특이사항, 참고할 만한 사항\",\n",
    "                },\n",
    "            },\n",
    "            \"required\": [\"camping_site_name\", \"reservation_name\", \"reservation_time\", \"price\", \"special_note\"],\n",
    "        },\n",
    "    }\n",
    "]\n",
    "\n"
   ]
  },
  {
   "cell_type": "code",
   "execution_count": 9,
   "metadata": {},
   "outputs": [],
   "source": [
    "chain = prompt | model.bind(function_call={\"name\": \"get_camping_info\"}, functions=functions) | JsonOutputFunctionsParser()\n",
    "# chain = prompt | model.bind(function_call={\"name\": \"get_camping_info\"}, functions=functions)"
   ]
  },
  {
   "cell_type": "code",
   "execution_count": 10,
   "metadata": {},
   "outputs": [
    {
     "data": {
      "text/plain": [
       "{'camping_site_name': '한알캠핑장',\n",
       " 'reservation_name': '정지은',\n",
       " 'reservation_time': '2022-02-23',\n",
       " 'price': 160000,\n",
       " 'special_note': '한알캠핑장은 전면 우레탄으로 되있는 추위 비 눈 걱정없는 캠핑장입니다. 가평이고요.'}"
      ]
     },
     "execution_count": 10,
     "metadata": {},
     "output_type": "execute_result"
    }
   ],
   "source": [
    "chain.invoke({\"something\": something})"
   ]
  },
  {
   "cell_type": "code",
   "execution_count": null,
   "metadata": {},
   "outputs": [],
   "source": []
  }
 ],
 "metadata": {
  "kernelspec": {
   "display_name": "Python 3",
   "language": "python",
   "name": "python3"
  },
  "language_info": {
   "codemirror_mode": {
    "name": "ipython",
    "version": 3
   },
   "file_extension": ".py",
   "mimetype": "text/x-python",
   "name": "python",
   "nbconvert_exporter": "python",
   "pygments_lexer": "ipython3",
   "version": "3.11.4"
  }
 },
 "nbformat": 4,
 "nbformat_minor": 2
}
